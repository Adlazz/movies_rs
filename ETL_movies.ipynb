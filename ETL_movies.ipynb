{
 "cells": [
  {
   "cell_type": "markdown",
   "metadata": {},
   "source": [
    "### PROCESO ETL"
   ]
  },
  {
   "cell_type": "code",
   "execution_count": 241,
   "metadata": {},
   "outputs": [],
   "source": [
    "import pandas as pd\n",
    "import numpy as py\n",
    "import json"
   ]
  },
  {
   "cell_type": "code",
   "execution_count": 242,
   "metadata": {},
   "outputs": [
    {
     "name": "stderr",
     "output_type": "stream",
     "text": [
      "C:\\Users\\54370\\AppData\\Local\\Temp\\ipykernel_10796\\1638304305.py:2: DtypeWarning: Columns (10) have mixed types. Specify dtype option on import or set low_memory=False.\n",
      "  movies = pd.read_csv('movies_dataset.csv')\n"
     ]
    }
   ],
   "source": [
    "# Cargar los datasets\n",
    "movies = pd.read_csv('movies_dataset.csv')\n",
    "credits = pd.read_csv('credits.csv')"
   ]
  },
  {
   "cell_type": "code",
   "execution_count": 243,
   "metadata": {},
   "outputs": [
    {
     "name": "stdout",
     "output_type": "stream",
     "text": [
      "<class 'pandas.core.frame.DataFrame'>\n",
      "RangeIndex: 45466 entries, 0 to 45465\n",
      "Data columns (total 24 columns):\n",
      " #   Column                 Non-Null Count  Dtype  \n",
      "---  ------                 --------------  -----  \n",
      " 0   adult                  45466 non-null  object \n",
      " 1   belongs_to_collection  4494 non-null   object \n",
      " 2   budget                 45466 non-null  object \n",
      " 3   genres                 45466 non-null  object \n",
      " 4   homepage               7782 non-null   object \n",
      " 5   id                     45466 non-null  object \n",
      " 6   imdb_id                45449 non-null  object \n",
      " 7   original_language      45455 non-null  object \n",
      " 8   original_title         45466 non-null  object \n",
      " 9   overview               44512 non-null  object \n",
      " 10  popularity             45461 non-null  object \n",
      " 11  poster_path            45080 non-null  object \n",
      " 12  production_companies   45463 non-null  object \n",
      " 13  production_countries   45463 non-null  object \n",
      " 14  release_date           45379 non-null  object \n",
      " 15  revenue                45460 non-null  float64\n",
      " 16  runtime                45203 non-null  float64\n",
      " 17  spoken_languages       45460 non-null  object \n",
      " 18  status                 45379 non-null  object \n",
      " 19  tagline                20412 non-null  object \n",
      " 20  title                  45460 non-null  object \n",
      " 21  video                  45460 non-null  object \n",
      " 22  vote_average           45460 non-null  float64\n",
      " 23  vote_count             45460 non-null  float64\n",
      "dtypes: float64(4), object(20)\n",
      "memory usage: 8.3+ MB\n"
     ]
    }
   ],
   "source": [
    "movies.info()"
   ]
  },
  {
   "cell_type": "code",
   "execution_count": 244,
   "metadata": {},
   "outputs": [
    {
     "name": "stdout",
     "output_type": "stream",
     "text": [
      "<class 'pandas.core.frame.DataFrame'>\n",
      "RangeIndex: 45476 entries, 0 to 45475\n",
      "Data columns (total 3 columns):\n",
      " #   Column  Non-Null Count  Dtype \n",
      "---  ------  --------------  ----- \n",
      " 0   cast    45476 non-null  object\n",
      " 1   crew    45476 non-null  object\n",
      " 2   id      45476 non-null  int64 \n",
      "dtypes: int64(1), object(2)\n",
      "memory usage: 1.0+ MB\n"
     ]
    }
   ],
   "source": [
    "credits.info()"
   ]
  },
  {
   "cell_type": "markdown",
   "metadata": {},
   "source": [
    "### Función para convertir una columna a solo datos numericos tipo Int64 o float"
   ]
  },
  {
   "cell_type": "code",
   "execution_count": 245,
   "metadata": {},
   "outputs": [],
   "source": [
    "def convertir_tipo(df, column, type):\n",
    "    \"\"\"\n",
    "    Filtra los valores que contienen solo números en la columna especificada,\n",
    "    elimina las filas no numéricas y convierte la columna a tipo int.\n",
    "\n",
    "    Args:\n",
    "    df (pd.DataFrame): El DataFrame a procesar.\n",
    "    column (str): El nombre de la columna a convertir.\n",
    "\n",
    "    Returns:\n",
    "    pd.DataFrame: El DataFrame procesado con la columna solo numérica.\n",
    "    \"\"\"\n",
    "    df = df.copy()\n",
    "    \n",
    "    # Filtrar los valores que contienen solo números\n",
    "    df['numeric'] = df[column].str.extract('(\\d+)', expand=False)\n",
    "    \n",
    "    # Eliminar las filas que no son numéricas\n",
    "    df = df.dropna(subset=['numeric'])\n",
    "    \n",
    "    # Convertir la columna a tipo int\n",
    "    df['numeric'] = df['numeric'].astype(type)\n",
    "    \n",
    "    # Eliminar la columna original y renombrar la nueva columna\n",
    "    df = df.drop(columns=[column])\n",
    "    df = df.rename(columns={'numeric': column})\n",
    "    \n",
    "    return df"
   ]
  },
  {
   "cell_type": "markdown",
   "metadata": {},
   "source": [
    "La columna movies['id'] es de tipo objeto, lo pasamos a Int64.  \n",
    "\n",
    "La columna contiene valores numericos y no numericos que son incorrectos para un id, para lo cual procedemos a eliminar todos los valores que no sean numericos y luego verificamos si exiten duplicados."
   ]
  },
  {
   "cell_type": "code",
   "execution_count": 246,
   "metadata": {},
   "outputs": [
    {
     "data": {
      "text/plain": [
       "dtype('O')"
      ]
     },
     "execution_count": 246,
     "metadata": {},
     "output_type": "execute_result"
    }
   ],
   "source": [
    "movies['id'].dtype"
   ]
  },
  {
   "cell_type": "code",
   "execution_count": 247,
   "metadata": {},
   "outputs": [],
   "source": [
    "movies = convertir_tipo(movies, 'id', 'Int64')\n"
   ]
  },
  {
   "cell_type": "code",
   "execution_count": 248,
   "metadata": {},
   "outputs": [
    {
     "data": {
      "text/plain": [
       "Int64Dtype()"
      ]
     },
     "execution_count": 248,
     "metadata": {},
     "output_type": "execute_result"
    }
   ],
   "source": [
    "movies['id'].dtype"
   ]
  },
  {
   "cell_type": "markdown",
   "metadata": {},
   "source": [
    "Mover columna Id al inicio del dataframe"
   ]
  },
  {
   "cell_type": "code",
   "execution_count": 249,
   "metadata": {},
   "outputs": [
    {
     "data": {
      "text/html": [
       "<div>\n",
       "<style scoped>\n",
       "    .dataframe tbody tr th:only-of-type {\n",
       "        vertical-align: middle;\n",
       "    }\n",
       "\n",
       "    .dataframe tbody tr th {\n",
       "        vertical-align: top;\n",
       "    }\n",
       "\n",
       "    .dataframe thead th {\n",
       "        text-align: right;\n",
       "    }\n",
       "</style>\n",
       "<table border=\"1\" class=\"dataframe\">\n",
       "  <thead>\n",
       "    <tr style=\"text-align: right;\">\n",
       "      <th></th>\n",
       "      <th>id</th>\n",
       "      <th>adult</th>\n",
       "      <th>belongs_to_collection</th>\n",
       "      <th>budget</th>\n",
       "      <th>genres</th>\n",
       "      <th>homepage</th>\n",
       "      <th>imdb_id</th>\n",
       "      <th>original_language</th>\n",
       "      <th>original_title</th>\n",
       "      <th>overview</th>\n",
       "      <th>...</th>\n",
       "      <th>release_date</th>\n",
       "      <th>revenue</th>\n",
       "      <th>runtime</th>\n",
       "      <th>spoken_languages</th>\n",
       "      <th>status</th>\n",
       "      <th>tagline</th>\n",
       "      <th>title</th>\n",
       "      <th>video</th>\n",
       "      <th>vote_average</th>\n",
       "      <th>vote_count</th>\n",
       "    </tr>\n",
       "  </thead>\n",
       "  <tbody>\n",
       "    <tr>\n",
       "      <th>0</th>\n",
       "      <td>862</td>\n",
       "      <td>False</td>\n",
       "      <td>{'id': 10194, 'name': 'Toy Story Collection', ...</td>\n",
       "      <td>30000000</td>\n",
       "      <td>[{'id': 16, 'name': 'Animation'}, {'id': 35, '...</td>\n",
       "      <td>http://toystory.disney.com/toy-story</td>\n",
       "      <td>tt0114709</td>\n",
       "      <td>en</td>\n",
       "      <td>Toy Story</td>\n",
       "      <td>Led by Woody, Andy's toys live happily in his ...</td>\n",
       "      <td>...</td>\n",
       "      <td>1995-10-30</td>\n",
       "      <td>373554033.0</td>\n",
       "      <td>81.0</td>\n",
       "      <td>[{'iso_639_1': 'en', 'name': 'English'}]</td>\n",
       "      <td>Released</td>\n",
       "      <td>NaN</td>\n",
       "      <td>Toy Story</td>\n",
       "      <td>False</td>\n",
       "      <td>7.7</td>\n",
       "      <td>5415.0</td>\n",
       "    </tr>\n",
       "    <tr>\n",
       "      <th>1</th>\n",
       "      <td>8844</td>\n",
       "      <td>False</td>\n",
       "      <td>NaN</td>\n",
       "      <td>65000000</td>\n",
       "      <td>[{'id': 12, 'name': 'Adventure'}, {'id': 14, '...</td>\n",
       "      <td>NaN</td>\n",
       "      <td>tt0113497</td>\n",
       "      <td>en</td>\n",
       "      <td>Jumanji</td>\n",
       "      <td>When siblings Judy and Peter discover an encha...</td>\n",
       "      <td>...</td>\n",
       "      <td>1995-12-15</td>\n",
       "      <td>262797249.0</td>\n",
       "      <td>104.0</td>\n",
       "      <td>[{'iso_639_1': 'en', 'name': 'English'}, {'iso...</td>\n",
       "      <td>Released</td>\n",
       "      <td>Roll the dice and unleash the excitement!</td>\n",
       "      <td>Jumanji</td>\n",
       "      <td>False</td>\n",
       "      <td>6.9</td>\n",
       "      <td>2413.0</td>\n",
       "    </tr>\n",
       "  </tbody>\n",
       "</table>\n",
       "<p>2 rows × 24 columns</p>\n",
       "</div>"
      ],
      "text/plain": [
       "     id  adult                              belongs_to_collection    budget  \\\n",
       "0   862  False  {'id': 10194, 'name': 'Toy Story Collection', ...  30000000   \n",
       "1  8844  False                                                NaN  65000000   \n",
       "\n",
       "                                              genres  \\\n",
       "0  [{'id': 16, 'name': 'Animation'}, {'id': 35, '...   \n",
       "1  [{'id': 12, 'name': 'Adventure'}, {'id': 14, '...   \n",
       "\n",
       "                               homepage    imdb_id original_language  \\\n",
       "0  http://toystory.disney.com/toy-story  tt0114709                en   \n",
       "1                                   NaN  tt0113497                en   \n",
       "\n",
       "  original_title                                           overview  ...  \\\n",
       "0      Toy Story  Led by Woody, Andy's toys live happily in his ...  ...   \n",
       "1        Jumanji  When siblings Judy and Peter discover an encha...  ...   \n",
       "\n",
       "  release_date      revenue runtime  \\\n",
       "0   1995-10-30  373554033.0    81.0   \n",
       "1   1995-12-15  262797249.0   104.0   \n",
       "\n",
       "                                    spoken_languages    status  \\\n",
       "0           [{'iso_639_1': 'en', 'name': 'English'}]  Released   \n",
       "1  [{'iso_639_1': 'en', 'name': 'English'}, {'iso...  Released   \n",
       "\n",
       "                                     tagline      title  video vote_average  \\\n",
       "0                                        NaN  Toy Story  False          7.7   \n",
       "1  Roll the dice and unleash the excitement!    Jumanji  False          6.9   \n",
       "\n",
       "  vote_count  \n",
       "0     5415.0  \n",
       "1     2413.0  \n",
       "\n",
       "[2 rows x 24 columns]"
      ]
     },
     "execution_count": 249,
     "metadata": {},
     "output_type": "execute_result"
    }
   ],
   "source": [
    "# Especificar la columna que quieres mover al inicio\n",
    "col_to_move = 'id'\n",
    "\n",
    "# Obtener una lista de todas las columnas\n",
    "cols = list(movies.columns)\n",
    "\n",
    "# Remover la columna que quieres mover al inicio de la lista\n",
    "cols.remove(col_to_move)\n",
    "\n",
    "# Insertar la columna al inicio de la lista\n",
    "cols.insert(0, col_to_move)\n",
    "\n",
    "# Reorganizar el DataFrame con el nuevo orden de columnas\n",
    "movies = movies[cols]\n",
    "\n",
    "movies.head(2)"
   ]
  },
  {
   "cell_type": "markdown",
   "metadata": {},
   "source": [
    "### Chequeo de nulos"
   ]
  },
  {
   "cell_type": "code",
   "execution_count": 250,
   "metadata": {},
   "outputs": [],
   "source": [
    "def chequear_nulos(df, column):\n",
    "    \"\"\"\n",
    "    Verifica si hay datos nulos en la columna especificada de un DataFrame y\n",
    "    imprime un mensaje indicando si existen o no datos nulos.\n",
    "\n",
    "    Args:\n",
    "    df (pd.DataFrame): El DataFrame a verificar.\n",
    "    column (str): El nombre de la columna a chequear.\n",
    "    \"\"\"\n",
    "    if df[column].isnull().any():\n",
    "        print(f\"Hay datos nulos en la columna '{column}'.\")\n",
    "    else:\n",
    "        print(f\"No hay datos nulos en la columna '{column}'.\")"
   ]
  },
  {
   "cell_type": "code",
   "execution_count": 251,
   "metadata": {},
   "outputs": [
    {
     "name": "stdout",
     "output_type": "stream",
     "text": [
      "No hay datos nulos en la columna 'id'.\n"
     ]
    }
   ],
   "source": [
    "# Chequeamos datos nulos en id\n",
    "chequear_nulos(movies, 'id')"
   ]
  },
  {
   "cell_type": "markdown",
   "metadata": {},
   "source": [
    "### Chequeo de duplicados"
   ]
  },
  {
   "cell_type": "code",
   "execution_count": 252,
   "metadata": {},
   "outputs": [],
   "source": [
    "def chequear_duplicados(df, column):\n",
    "    \"\"\"\n",
    "    Verifica si hay datos duplicados en la columna especificada de un DataFrame y\n",
    "    imprime un mensaje indicando si existen o no datos duplicados.\n",
    "\n",
    "    Args:\n",
    "    df (pd.DataFrame): El DataFrame a verificar.\n",
    "    column (str): El nombre de la columna a chequear.\n",
    "    \"\"\"\n",
    "    # Verificar si hay datos duplicados\n",
    "    hay_datos_duplicados = df[column].duplicated().any()\n",
    "    \n",
    "    # Contar el número de duplicados\n",
    "    num_duplicados = df[column].duplicated().sum()\n",
    "    \n",
    "    if hay_datos_duplicados:\n",
    "        print(f\"Hay {num_duplicados} datos duplicados en la columna '{column}'.\")\n",
    "    else:\n",
    "        print(f\"No hay datos duplicados en la columna '{column}'.\")"
   ]
  },
  {
   "cell_type": "code",
   "execution_count": 253,
   "metadata": {},
   "outputs": [
    {
     "name": "stdout",
     "output_type": "stream",
     "text": [
      "Hay 33 datos duplicados en la columna 'id'.\n"
     ]
    }
   ],
   "source": [
    "# Chequear si hay datos duplicados en la columna 'id'\n",
    "chequear_duplicados(movies, 'id')"
   ]
  },
  {
   "cell_type": "markdown",
   "metadata": {},
   "source": [
    "### Eliminar duplicados\n",
    "Se eliminan los valores duplicados y quedan las filas que contengan más campos sin nulos."
   ]
  },
  {
   "cell_type": "code",
   "execution_count": 254,
   "metadata": {},
   "outputs": [
    {
     "name": "stdout",
     "output_type": "stream",
     "text": [
      "Data sin duplicados, conservando las filas con más datos no nulos\n",
      "Número de duplicados eliminados: 33\n"
     ]
    },
    {
     "name": "stderr",
     "output_type": "stream",
     "text": [
      "C:\\Users\\54370\\AppData\\Local\\Temp\\ipykernel_10796\\2558724696.py:5: DeprecationWarning: DataFrameGroupBy.apply operated on the grouping columns. This behavior is deprecated, and in a future version of pandas the grouping columns will be excluded from the operation. Either pass `include_groups=False` to exclude the groupings or explicitly select the grouping columns after groupby to silence this warning.\n",
      "  movies = movies.loc[movies.groupby('id').apply(lambda x: x.notnull().sum(axis=1).idxmax())]\n"
     ]
    }
   ],
   "source": [
    "# Número de filas antes de eliminar duplicados\n",
    "num_filas_antes = len(movies)\n",
    "\n",
    "# Eliminar duplicados quedándote con la fila con más datos no nulos\n",
    "movies = movies.loc[movies.groupby('id').apply(lambda x: x.notnull().sum(axis=1).idxmax())]\n",
    "\n",
    "# Número de filas después de eliminar duplicados\n",
    "num_filas_despues = len(movies)\n",
    "\n",
    "# Calcular el número de duplicados eliminados\n",
    "num_duplicados_eliminados = num_filas_antes - num_filas_despues\n",
    "\n",
    "# Imprimir el DataFrame resultante y el número de duplicados eliminados\n",
    "print(\"Data sin duplicados, conservando las filas con más datos no nulos\")\n",
    "print(f\"Número de duplicados eliminados: {num_duplicados_eliminados}\")"
   ]
  },
  {
   "cell_type": "code",
   "execution_count": 255,
   "metadata": {},
   "outputs": [
    {
     "name": "stdout",
     "output_type": "stream",
     "text": [
      "No hay datos duplicados en la columna 'id'.\n"
     ]
    }
   ],
   "source": [
    "# Chequeamos datos nulos en id\n",
    "chequear_duplicados(movies, 'id')"
   ]
  },
  {
   "cell_type": "markdown",
   "metadata": {},
   "source": [
    "### Transformaciones"
   ]
  },
  {
   "cell_type": "code",
   "execution_count": 256,
   "metadata": {},
   "outputs": [],
   "source": [
    "\n",
    "# Rellenar los valores nulos en las columnas 'revenue' y 'budget' con 0\n",
    "movies['revenue'] = movies['revenue'].fillna(0)\n",
    "movies['budget'] = movies['budget'].fillna(0)\n"
   ]
  },
  {
   "cell_type": "code",
   "execution_count": 257,
   "metadata": {},
   "outputs": [],
   "source": [
    "# Convertir las columnas a tipo float64\n",
    "movies = convertir_tipo(movies, 'budget', 'float64')"
   ]
  },
  {
   "cell_type": "code",
   "execution_count": 258,
   "metadata": {},
   "outputs": [
    {
     "data": {
      "text/plain": [
       "dtype('float64')"
      ]
     },
     "execution_count": 258,
     "metadata": {},
     "output_type": "execute_result"
    }
   ],
   "source": [
    "movies['revenue'].dtype"
   ]
  },
  {
   "cell_type": "code",
   "execution_count": 259,
   "metadata": {},
   "outputs": [
    {
     "data": {
      "text/plain": [
       "dtype('float64')"
      ]
     },
     "execution_count": 259,
     "metadata": {},
     "output_type": "execute_result"
    }
   ],
   "source": [
    "movies['budget'].dtype"
   ]
  },
  {
   "cell_type": "code",
   "execution_count": 260,
   "metadata": {},
   "outputs": [
    {
     "name": "stdout",
     "output_type": "stream",
     "text": [
      "No hay datos nulos en la columna 'budget'.\n",
      "None\n",
      "No hay datos nulos en la columna 'revenue'.\n",
      "None\n"
     ]
    }
   ],
   "source": [
    "# Chequeamos datos nulos en id\n",
    "print(chequear_nulos(movies, 'budget'))\n",
    "print(chequear_nulos(movies, 'revenue'))\n"
   ]
  },
  {
   "cell_type": "markdown",
   "metadata": {},
   "source": [
    "Transformar fechas: 'release_date' object a datetime"
   ]
  },
  {
   "cell_type": "code",
   "execution_count": 261,
   "metadata": {},
   "outputs": [],
   "source": [
    "def procesar_release_date(df):\n",
    "    \"\"\"\n",
    "    Procesa la columna 'release_date' para:\n",
    "    1. Eliminar valores nulos.\n",
    "    2. Asegurarse de que las fechas estén en el formato AAAA-mm-dd.\n",
    "    3. Crear una nueva columna 'release_year' que extrae el año de la fecha de estreno.\n",
    "\n",
    "    Args:\n",
    "    df (pd.DataFrame): El DataFrame a procesar.\n",
    "\n",
    "    Returns:\n",
    "    pd.DataFrame: El DataFrame procesado.\n",
    "    \"\"\"\n",
    "    df = df.copy()\n",
    "    \n",
    "    # Eliminar valores nulos en 'release_date'\n",
    "    df = df.dropna(subset=['release_date'])\n",
    "    \n",
    "    # Convertir 'release_date' a datetime, forzando el formato AAAA-mm-dd\n",
    "    df['release_date'] = pd.to_datetime(df['release_date'], errors='coerce', format='%Y-%m-%d')\n",
    "    \n",
    "    # Eliminar filas con fechas no válidas\n",
    "    df = df.dropna(subset=['release_date'])\n",
    "    \n",
    "    # Crear la columna 'release_year' extrayendo el año de 'release_date'\n",
    "    df['release_year'] = df['release_date'].dt.year\n",
    "    \n",
    "    return df"
   ]
  },
  {
   "cell_type": "code",
   "execution_count": 262,
   "metadata": {},
   "outputs": [
    {
     "name": "stdout",
     "output_type": "stream",
     "text": [
      "DataFrame procesado:\n"
     ]
    },
    {
     "data": {
      "text/html": [
       "<div>\n",
       "<style scoped>\n",
       "    .dataframe tbody tr th:only-of-type {\n",
       "        vertical-align: middle;\n",
       "    }\n",
       "\n",
       "    .dataframe tbody tr th {\n",
       "        vertical-align: top;\n",
       "    }\n",
       "\n",
       "    .dataframe thead th {\n",
       "        text-align: right;\n",
       "    }\n",
       "</style>\n",
       "<table border=\"1\" class=\"dataframe\">\n",
       "  <thead>\n",
       "    <tr style=\"text-align: right;\">\n",
       "      <th></th>\n",
       "      <th>id</th>\n",
       "      <th>adult</th>\n",
       "      <th>belongs_to_collection</th>\n",
       "      <th>genres</th>\n",
       "      <th>homepage</th>\n",
       "      <th>imdb_id</th>\n",
       "      <th>original_language</th>\n",
       "      <th>original_title</th>\n",
       "      <th>overview</th>\n",
       "      <th>popularity</th>\n",
       "      <th>...</th>\n",
       "      <th>runtime</th>\n",
       "      <th>spoken_languages</th>\n",
       "      <th>status</th>\n",
       "      <th>tagline</th>\n",
       "      <th>title</th>\n",
       "      <th>video</th>\n",
       "      <th>vote_average</th>\n",
       "      <th>vote_count</th>\n",
       "      <th>budget</th>\n",
       "      <th>release_year</th>\n",
       "    </tr>\n",
       "  </thead>\n",
       "  <tbody>\n",
       "    <tr>\n",
       "      <th>4342</th>\n",
       "      <td>2</td>\n",
       "      <td>False</td>\n",
       "      <td>NaN</td>\n",
       "      <td>[{'id': 18, 'name': 'Drama'}, {'id': 80, 'name...</td>\n",
       "      <td>NaN</td>\n",
       "      <td>tt0094675</td>\n",
       "      <td>fi</td>\n",
       "      <td>Ariel</td>\n",
       "      <td>Taisto Kasurinen is a Finnish coal miner whose...</td>\n",
       "      <td>3.860491</td>\n",
       "      <td>...</td>\n",
       "      <td>69.0</td>\n",
       "      <td>[{'iso_639_1': 'fi', 'name': 'suomi'}, {'iso_6...</td>\n",
       "      <td>Released</td>\n",
       "      <td>NaN</td>\n",
       "      <td>Ariel</td>\n",
       "      <td>False</td>\n",
       "      <td>7.1</td>\n",
       "      <td>44.0</td>\n",
       "      <td>0.0</td>\n",
       "      <td>1988</td>\n",
       "    </tr>\n",
       "    <tr>\n",
       "      <th>12947</th>\n",
       "      <td>3</td>\n",
       "      <td>False</td>\n",
       "      <td>NaN</td>\n",
       "      <td>[{'id': 18, 'name': 'Drama'}, {'id': 35, 'name...</td>\n",
       "      <td>NaN</td>\n",
       "      <td>tt0092149</td>\n",
       "      <td>fi</td>\n",
       "      <td>Varjoja paratiisissa</td>\n",
       "      <td>An episode in the life of Nikander, a garbage ...</td>\n",
       "      <td>2.29211</td>\n",
       "      <td>...</td>\n",
       "      <td>76.0</td>\n",
       "      <td>[{'iso_639_1': 'en', 'name': 'English'}, {'iso...</td>\n",
       "      <td>Released</td>\n",
       "      <td>NaN</td>\n",
       "      <td>Shadows in Paradise</td>\n",
       "      <td>False</td>\n",
       "      <td>7.1</td>\n",
       "      <td>35.0</td>\n",
       "      <td>0.0</td>\n",
       "      <td>1986</td>\n",
       "    </tr>\n",
       "    <tr>\n",
       "      <th>17</th>\n",
       "      <td>5</td>\n",
       "      <td>False</td>\n",
       "      <td>NaN</td>\n",
       "      <td>[{'id': 80, 'name': 'Crime'}, {'id': 35, 'name...</td>\n",
       "      <td>NaN</td>\n",
       "      <td>tt0113101</td>\n",
       "      <td>en</td>\n",
       "      <td>Four Rooms</td>\n",
       "      <td>It's Ted the Bellhop's first night on the job....</td>\n",
       "      <td>9.026586</td>\n",
       "      <td>...</td>\n",
       "      <td>98.0</td>\n",
       "      <td>[{'iso_639_1': 'en', 'name': 'English'}]</td>\n",
       "      <td>Released</td>\n",
       "      <td>Twelve outrageous guests. Four scandalous requ...</td>\n",
       "      <td>Four Rooms</td>\n",
       "      <td>False</td>\n",
       "      <td>6.5</td>\n",
       "      <td>539.0</td>\n",
       "      <td>4000000.0</td>\n",
       "      <td>1995</td>\n",
       "    </tr>\n",
       "    <tr>\n",
       "      <th>474</th>\n",
       "      <td>6</td>\n",
       "      <td>False</td>\n",
       "      <td>NaN</td>\n",
       "      <td>[{'id': 28, 'name': 'Action'}, {'id': 53, 'nam...</td>\n",
       "      <td>NaN</td>\n",
       "      <td>tt0107286</td>\n",
       "      <td>en</td>\n",
       "      <td>Judgment Night</td>\n",
       "      <td>While racing to a boxing match, Frank, Mike, J...</td>\n",
       "      <td>5.538671</td>\n",
       "      <td>...</td>\n",
       "      <td>110.0</td>\n",
       "      <td>[{'iso_639_1': 'en', 'name': 'English'}]</td>\n",
       "      <td>Released</td>\n",
       "      <td>Don't move. Don't whisper. Don't even breathe.</td>\n",
       "      <td>Judgment Night</td>\n",
       "      <td>False</td>\n",
       "      <td>6.4</td>\n",
       "      <td>79.0</td>\n",
       "      <td>0.0</td>\n",
       "      <td>1993</td>\n",
       "    </tr>\n",
       "    <tr>\n",
       "      <th>256</th>\n",
       "      <td>11</td>\n",
       "      <td>False</td>\n",
       "      <td>{'id': 10, 'name': 'Star Wars Collection', 'po...</td>\n",
       "      <td>[{'id': 12, 'name': 'Adventure'}, {'id': 28, '...</td>\n",
       "      <td>http://www.starwars.com/films/star-wars-episod...</td>\n",
       "      <td>tt0076759</td>\n",
       "      <td>en</td>\n",
       "      <td>Star Wars</td>\n",
       "      <td>Princess Leia is captured and held hostage by ...</td>\n",
       "      <td>42.149697</td>\n",
       "      <td>...</td>\n",
       "      <td>121.0</td>\n",
       "      <td>[{'iso_639_1': 'en', 'name': 'English'}]</td>\n",
       "      <td>Released</td>\n",
       "      <td>A long time ago in a galaxy far, far away...</td>\n",
       "      <td>Star Wars</td>\n",
       "      <td>False</td>\n",
       "      <td>8.1</td>\n",
       "      <td>6778.0</td>\n",
       "      <td>11000000.0</td>\n",
       "      <td>1977</td>\n",
       "    </tr>\n",
       "    <tr>\n",
       "      <th>...</th>\n",
       "      <td>...</td>\n",
       "      <td>...</td>\n",
       "      <td>...</td>\n",
       "      <td>...</td>\n",
       "      <td>...</td>\n",
       "      <td>...</td>\n",
       "      <td>...</td>\n",
       "      <td>...</td>\n",
       "      <td>...</td>\n",
       "      <td>...</td>\n",
       "      <td>...</td>\n",
       "      <td>...</td>\n",
       "      <td>...</td>\n",
       "      <td>...</td>\n",
       "      <td>...</td>\n",
       "      <td>...</td>\n",
       "      <td>...</td>\n",
       "      <td>...</td>\n",
       "      <td>...</td>\n",
       "      <td>...</td>\n",
       "      <td>...</td>\n",
       "    </tr>\n",
       "    <tr>\n",
       "      <th>45078</th>\n",
       "      <td>465044</td>\n",
       "      <td>False</td>\n",
       "      <td>NaN</td>\n",
       "      <td>[{'id': 14, 'name': 'Fantasy'}, {'id': 18, 'na...</td>\n",
       "      <td>NaN</td>\n",
       "      <td>tt5943940</td>\n",
       "      <td>en</td>\n",
       "      <td>Abduction</td>\n",
       "      <td>A horror comedy spoofing conspiracy theory mov...</td>\n",
       "      <td>0.281008</td>\n",
       "      <td>...</td>\n",
       "      <td>90.0</td>\n",
       "      <td>[{'iso_639_1': 'en', 'name': 'English'}]</td>\n",
       "      <td>Released</td>\n",
       "      <td>Horrifically Funny</td>\n",
       "      <td>Abduction</td>\n",
       "      <td>False</td>\n",
       "      <td>0.0</td>\n",
       "      <td>0.0</td>\n",
       "      <td>0.0</td>\n",
       "      <td>2017</td>\n",
       "    </tr>\n",
       "    <tr>\n",
       "      <th>45273</th>\n",
       "      <td>467731</td>\n",
       "      <td>False</td>\n",
       "      <td>NaN</td>\n",
       "      <td>[{'id': 18, 'name': 'Drama'}]</td>\n",
       "      <td>NaN</td>\n",
       "      <td>tt0507700</td>\n",
       "      <td>en</td>\n",
       "      <td>Tragedy in a Temporary Town</td>\n",
       "      <td>Fifteen-year-old girl Dotty Fisher is assaulte...</td>\n",
       "      <td>0.001189</td>\n",
       "      <td>...</td>\n",
       "      <td>60.0</td>\n",
       "      <td>[{'iso_639_1': 'en', 'name': 'English'}]</td>\n",
       "      <td>Released</td>\n",
       "      <td>NaN</td>\n",
       "      <td>Tragedy in a Temporary Town</td>\n",
       "      <td>False</td>\n",
       "      <td>0.0</td>\n",
       "      <td>0.0</td>\n",
       "      <td>0.0</td>\n",
       "      <td>1956</td>\n",
       "    </tr>\n",
       "    <tr>\n",
       "      <th>21891</th>\n",
       "      <td>468343</td>\n",
       "      <td>False</td>\n",
       "      <td>NaN</td>\n",
       "      <td>[{'id': 18, 'name': 'Drama'}, {'id': 10749, 'n...</td>\n",
       "      <td>NaN</td>\n",
       "      <td>tt0133202</td>\n",
       "      <td>fi</td>\n",
       "      <td>Silja - nuorena nukkunut</td>\n",
       "      <td>In the 1910s, beautiful young Silja loses both...</td>\n",
       "      <td>0.001202</td>\n",
       "      <td>...</td>\n",
       "      <td>87.0</td>\n",
       "      <td>[]</td>\n",
       "      <td>Released</td>\n",
       "      <td>NaN</td>\n",
       "      <td>Silja - nuorena nukkunut</td>\n",
       "      <td>False</td>\n",
       "      <td>0.0</td>\n",
       "      <td>0.0</td>\n",
       "      <td>0.0</td>\n",
       "      <td>1956</td>\n",
       "    </tr>\n",
       "    <tr>\n",
       "      <th>45398</th>\n",
       "      <td>468707</td>\n",
       "      <td>False</td>\n",
       "      <td>NaN</td>\n",
       "      <td>[{'id': 10749, 'name': 'Romance'}, {'id': 35, ...</td>\n",
       "      <td>http://lmtr.fi/</td>\n",
       "      <td>tt5742932</td>\n",
       "      <td>fi</td>\n",
       "      <td>Lauri Mäntyvaaran tuuheet ripset</td>\n",
       "      <td>NaN</td>\n",
       "      <td>0.347806</td>\n",
       "      <td>...</td>\n",
       "      <td>90.0</td>\n",
       "      <td>[{'iso_639_1': 'fi', 'name': 'suomi'}]</td>\n",
       "      <td>Released</td>\n",
       "      <td>NaN</td>\n",
       "      <td>Thick Lashes of Lauri Mäntyvaara</td>\n",
       "      <td>False</td>\n",
       "      <td>8.0</td>\n",
       "      <td>1.0</td>\n",
       "      <td>1254040.0</td>\n",
       "      <td>2017</td>\n",
       "    </tr>\n",
       "    <tr>\n",
       "      <th>20189</th>\n",
       "      <td>469172</td>\n",
       "      <td>False</td>\n",
       "      <td>NaN</td>\n",
       "      <td>[{'id': 14, 'name': 'Fantasy'}, {'id': 18, 'na...</td>\n",
       "      <td>NaN</td>\n",
       "      <td>tt0089018</td>\n",
       "      <td>pt</td>\n",
       "      <td>Manoel dans l'île des merveilles</td>\n",
       "      <td>Manuel is a young boy who travels from long ag...</td>\n",
       "      <td>0.001097</td>\n",
       "      <td>...</td>\n",
       "      <td>130.0</td>\n",
       "      <td>[{'iso_639_1': 'pt', 'name': 'Português'}, {'i...</td>\n",
       "      <td>Released</td>\n",
       "      <td>NaN</td>\n",
       "      <td>Manuel on the Island of Wonders</td>\n",
       "      <td>False</td>\n",
       "      <td>0.0</td>\n",
       "      <td>0.0</td>\n",
       "      <td>0.0</td>\n",
       "      <td>1984</td>\n",
       "    </tr>\n",
       "  </tbody>\n",
       "</table>\n",
       "<p>45346 rows × 25 columns</p>\n",
       "</div>"
      ],
      "text/plain": [
       "           id  adult                              belongs_to_collection  \\\n",
       "4342        2  False                                                NaN   \n",
       "12947       3  False                                                NaN   \n",
       "17          5  False                                                NaN   \n",
       "474         6  False                                                NaN   \n",
       "256        11  False  {'id': 10, 'name': 'Star Wars Collection', 'po...   \n",
       "...       ...    ...                                                ...   \n",
       "45078  465044  False                                                NaN   \n",
       "45273  467731  False                                                NaN   \n",
       "21891  468343  False                                                NaN   \n",
       "45398  468707  False                                                NaN   \n",
       "20189  469172  False                                                NaN   \n",
       "\n",
       "                                                  genres  \\\n",
       "4342   [{'id': 18, 'name': 'Drama'}, {'id': 80, 'name...   \n",
       "12947  [{'id': 18, 'name': 'Drama'}, {'id': 35, 'name...   \n",
       "17     [{'id': 80, 'name': 'Crime'}, {'id': 35, 'name...   \n",
       "474    [{'id': 28, 'name': 'Action'}, {'id': 53, 'nam...   \n",
       "256    [{'id': 12, 'name': 'Adventure'}, {'id': 28, '...   \n",
       "...                                                  ...   \n",
       "45078  [{'id': 14, 'name': 'Fantasy'}, {'id': 18, 'na...   \n",
       "45273                      [{'id': 18, 'name': 'Drama'}]   \n",
       "21891  [{'id': 18, 'name': 'Drama'}, {'id': 10749, 'n...   \n",
       "45398  [{'id': 10749, 'name': 'Romance'}, {'id': 35, ...   \n",
       "20189  [{'id': 14, 'name': 'Fantasy'}, {'id': 18, 'na...   \n",
       "\n",
       "                                                homepage    imdb_id  \\\n",
       "4342                                                 NaN  tt0094675   \n",
       "12947                                                NaN  tt0092149   \n",
       "17                                                   NaN  tt0113101   \n",
       "474                                                  NaN  tt0107286   \n",
       "256    http://www.starwars.com/films/star-wars-episod...  tt0076759   \n",
       "...                                                  ...        ...   \n",
       "45078                                                NaN  tt5943940   \n",
       "45273                                                NaN  tt0507700   \n",
       "21891                                                NaN  tt0133202   \n",
       "45398                                    http://lmtr.fi/  tt5742932   \n",
       "20189                                                NaN  tt0089018   \n",
       "\n",
       "      original_language                    original_title  \\\n",
       "4342                 fi                             Ariel   \n",
       "12947                fi              Varjoja paratiisissa   \n",
       "17                   en                        Four Rooms   \n",
       "474                  en                    Judgment Night   \n",
       "256                  en                         Star Wars   \n",
       "...                 ...                               ...   \n",
       "45078                en                         Abduction   \n",
       "45273                en       Tragedy in a Temporary Town   \n",
       "21891                fi          Silja - nuorena nukkunut   \n",
       "45398                fi  Lauri Mäntyvaaran tuuheet ripset   \n",
       "20189                pt  Manoel dans l'île des merveilles   \n",
       "\n",
       "                                                overview popularity  ...  \\\n",
       "4342   Taisto Kasurinen is a Finnish coal miner whose...   3.860491  ...   \n",
       "12947  An episode in the life of Nikander, a garbage ...    2.29211  ...   \n",
       "17     It's Ted the Bellhop's first night on the job....   9.026586  ...   \n",
       "474    While racing to a boxing match, Frank, Mike, J...   5.538671  ...   \n",
       "256    Princess Leia is captured and held hostage by ...  42.149697  ...   \n",
       "...                                                  ...        ...  ...   \n",
       "45078  A horror comedy spoofing conspiracy theory mov...   0.281008  ...   \n",
       "45273  Fifteen-year-old girl Dotty Fisher is assaulte...   0.001189  ...   \n",
       "21891  In the 1910s, beautiful young Silja loses both...   0.001202  ...   \n",
       "45398                                                NaN   0.347806  ...   \n",
       "20189  Manuel is a young boy who travels from long ag...   0.001097  ...   \n",
       "\n",
       "      runtime                                   spoken_languages    status  \\\n",
       "4342     69.0  [{'iso_639_1': 'fi', 'name': 'suomi'}, {'iso_6...  Released   \n",
       "12947    76.0  [{'iso_639_1': 'en', 'name': 'English'}, {'iso...  Released   \n",
       "17       98.0           [{'iso_639_1': 'en', 'name': 'English'}]  Released   \n",
       "474     110.0           [{'iso_639_1': 'en', 'name': 'English'}]  Released   \n",
       "256     121.0           [{'iso_639_1': 'en', 'name': 'English'}]  Released   \n",
       "...       ...                                                ...       ...   \n",
       "45078    90.0           [{'iso_639_1': 'en', 'name': 'English'}]  Released   \n",
       "45273    60.0           [{'iso_639_1': 'en', 'name': 'English'}]  Released   \n",
       "21891    87.0                                                 []  Released   \n",
       "45398    90.0             [{'iso_639_1': 'fi', 'name': 'suomi'}]  Released   \n",
       "20189   130.0  [{'iso_639_1': 'pt', 'name': 'Português'}, {'i...  Released   \n",
       "\n",
       "                                                 tagline  \\\n",
       "4342                                                 NaN   \n",
       "12947                                                NaN   \n",
       "17     Twelve outrageous guests. Four scandalous requ...   \n",
       "474       Don't move. Don't whisper. Don't even breathe.   \n",
       "256         A long time ago in a galaxy far, far away...   \n",
       "...                                                  ...   \n",
       "45078                                 Horrifically Funny   \n",
       "45273                                                NaN   \n",
       "21891                                                NaN   \n",
       "45398                                                NaN   \n",
       "20189                                                NaN   \n",
       "\n",
       "                                  title  video vote_average vote_count  \\\n",
       "4342                              Ariel  False          7.1       44.0   \n",
       "12947               Shadows in Paradise  False          7.1       35.0   \n",
       "17                           Four Rooms  False          6.5      539.0   \n",
       "474                      Judgment Night  False          6.4       79.0   \n",
       "256                           Star Wars  False          8.1     6778.0   \n",
       "...                                 ...    ...          ...        ...   \n",
       "45078                         Abduction  False          0.0        0.0   \n",
       "45273       Tragedy in a Temporary Town  False          0.0        0.0   \n",
       "21891          Silja - nuorena nukkunut  False          0.0        0.0   \n",
       "45398  Thick Lashes of Lauri Mäntyvaara  False          8.0        1.0   \n",
       "20189   Manuel on the Island of Wonders  False          0.0        0.0   \n",
       "\n",
       "           budget release_year  \n",
       "4342          0.0         1988  \n",
       "12947         0.0         1986  \n",
       "17      4000000.0         1995  \n",
       "474           0.0         1993  \n",
       "256    11000000.0         1977  \n",
       "...           ...          ...  \n",
       "45078         0.0         2017  \n",
       "45273         0.0         1956  \n",
       "21891         0.0         1956  \n",
       "45398   1254040.0         2017  \n",
       "20189         0.0         1984  \n",
       "\n",
       "[45346 rows x 25 columns]"
      ]
     },
     "execution_count": 262,
     "metadata": {},
     "output_type": "execute_result"
    }
   ],
   "source": [
    "# Procesar la columna 'release_date'\n",
    "movies = procesar_release_date(movies)\n",
    "\n",
    "print(\"DataFrame procesado:\")\n",
    "movies"
   ]
  },
  {
   "cell_type": "code",
   "execution_count": 263,
   "metadata": {},
   "outputs": [
    {
     "data": {
      "text/plain": [
       "4342    1988-10-21\n",
       "12947   1986-10-16\n",
       "17      1995-12-09\n",
       "474     1993-10-15\n",
       "256     1977-05-25\n",
       "           ...    \n",
       "45078   2017-06-28\n",
       "45273   1956-02-19\n",
       "21891   1956-01-01\n",
       "45398   2017-07-28\n",
       "20189   1984-08-02\n",
       "Name: release_date, Length: 45346, dtype: datetime64[ns]"
      ]
     },
     "execution_count": 263,
     "metadata": {},
     "output_type": "execute_result"
    }
   ],
   "source": [
    "movies['release_date']"
   ]
  },
  {
   "cell_type": "code",
   "execution_count": 264,
   "metadata": {},
   "outputs": [
    {
     "data": {
      "text/plain": [
       "4342     1988\n",
       "12947    1986\n",
       "17       1995\n",
       "474      1993\n",
       "256      1977\n",
       "         ... \n",
       "45078    2017\n",
       "45273    1956\n",
       "21891    1956\n",
       "45398    2017\n",
       "20189    1984\n",
       "Name: release_year, Length: 45346, dtype: int32"
      ]
     },
     "execution_count": 264,
     "metadata": {},
     "output_type": "execute_result"
    }
   ],
   "source": [
    "movies['release_year']"
   ]
  },
  {
   "cell_type": "markdown",
   "metadata": {},
   "source": [
    "### Eliminar columnas innecesarias"
   ]
  },
  {
   "cell_type": "code",
   "execution_count": 265,
   "metadata": {},
   "outputs": [],
   "source": [
    "# Eliminar las columnas no utilizadas\n",
    "columns_to_drop = ['video', 'imdb_id', 'adult', 'original_title', 'poster_path', 'homepage']\n",
    "movies = movies.drop(columns=columns_to_drop)"
   ]
  },
  {
   "cell_type": "code",
   "execution_count": 266,
   "metadata": {},
   "outputs": [
    {
     "name": "stdout",
     "output_type": "stream",
     "text": [
      "<class 'pandas.core.frame.DataFrame'>\n",
      "Index: 45346 entries, 4342 to 20189\n",
      "Data columns (total 19 columns):\n",
      " #   Column                 Non-Null Count  Dtype         \n",
      "---  ------                 --------------  -----         \n",
      " 0   id                     45346 non-null  Int64         \n",
      " 1   belongs_to_collection  4485 non-null   object        \n",
      " 2   genres                 45346 non-null  object        \n",
      " 3   original_language      45335 non-null  object        \n",
      " 4   overview               44405 non-null  object        \n",
      " 5   popularity             45346 non-null  object        \n",
      " 6   production_companies   45346 non-null  object        \n",
      " 7   production_countries   45346 non-null  object        \n",
      " 8   release_date           45346 non-null  datetime64[ns]\n",
      " 9   revenue                45346 non-null  float64       \n",
      " 10  runtime                45100 non-null  float64       \n",
      " 11  spoken_languages       45346 non-null  object        \n",
      " 12  status                 45266 non-null  object        \n",
      " 13  tagline                20387 non-null  object        \n",
      " 14  title                  45346 non-null  object        \n",
      " 15  vote_average           45346 non-null  float64       \n",
      " 16  vote_count             45346 non-null  float64       \n",
      " 17  budget                 45346 non-null  float64       \n",
      " 18  release_year           45346 non-null  int32         \n",
      "dtypes: Int64(1), datetime64[ns](1), float64(5), int32(1), object(11)\n",
      "memory usage: 6.8+ MB\n"
     ]
    }
   ],
   "source": [
    "movies.info()"
   ]
  },
  {
   "cell_type": "code",
   "execution_count": 267,
   "metadata": {},
   "outputs": [],
   "source": [
    "# Crear la columna 'return' manejando los casos donde 'budget' es 0 o NaN\n",
    "movies['return'] = movies.apply(\n",
    "    lambda row: row['revenue'] / row['budget'] if pd.notnull(row['revenue']) and pd.notnull(row['budget']) and row['budget'] != 0 else 0,\n",
    "    axis=1\n",
    ")"
   ]
  },
  {
   "cell_type": "code",
   "execution_count": 268,
   "metadata": {},
   "outputs": [
    {
     "data": {
      "text/plain": [
       "(45346, 20)"
      ]
     },
     "execution_count": 268,
     "metadata": {},
     "output_type": "execute_result"
    }
   ],
   "source": [
    "movies.shape"
   ]
  },
  {
   "cell_type": "code",
   "execution_count": 269,
   "metadata": {},
   "outputs": [
    {
     "data": {
      "text/plain": [
       "Index(['id', 'belongs_to_collection', 'genres', 'original_language',\n",
       "       'overview', 'popularity', 'production_companies',\n",
       "       'production_countries', 'release_date', 'revenue', 'runtime',\n",
       "       'spoken_languages', 'status', 'tagline', 'title', 'vote_average',\n",
       "       'vote_count', 'budget', 'release_year', 'return'],\n",
       "      dtype='object')"
      ]
     },
     "execution_count": 269,
     "metadata": {},
     "output_type": "execute_result"
    }
   ],
   "source": [
    "movies.columns"
   ]
  },
  {
   "cell_type": "markdown",
   "metadata": {},
   "source": [
    "### Convertir columnas numericas al formato correcto, chequear nulos"
   ]
  },
  {
   "cell_type": "code",
   "execution_count": 270,
   "metadata": {},
   "outputs": [
    {
     "data": {
      "text/plain": [
       "4342      3.860491\n",
       "12947      2.29211\n",
       "17        9.026586\n",
       "474       5.538671\n",
       "256      42.149697\n",
       "           ...    \n",
       "45078     0.281008\n",
       "45273     0.001189\n",
       "21891     0.001202\n",
       "45398     0.347806\n",
       "20189     0.001097\n",
       "Name: popularity, Length: 45346, dtype: object"
      ]
     },
     "execution_count": 270,
     "metadata": {},
     "output_type": "execute_result"
    }
   ],
   "source": [
    "movies.popularity"
   ]
  },
  {
   "cell_type": "code",
   "execution_count": 271,
   "metadata": {},
   "outputs": [
    {
     "data": {
      "text/plain": [
       "dtype('O')"
      ]
     },
     "execution_count": 271,
     "metadata": {},
     "output_type": "execute_result"
    }
   ],
   "source": [
    "# col popularity\n",
    "\n",
    "movies.popularity.dtype"
   ]
  },
  {
   "cell_type": "code",
   "execution_count": 272,
   "metadata": {},
   "outputs": [],
   "source": [
    "# Convertir la columna 'popularity' de object a float\n",
    "movies['popularity'] = pd.to_numeric(movies['popularity'], errors='coerce')"
   ]
  },
  {
   "cell_type": "code",
   "execution_count": 273,
   "metadata": {},
   "outputs": [
    {
     "data": {
      "text/plain": [
       "dtype('float64')"
      ]
     },
     "execution_count": 273,
     "metadata": {},
     "output_type": "execute_result"
    }
   ],
   "source": [
    "movies.popularity.dtype"
   ]
  },
  {
   "cell_type": "code",
   "execution_count": 274,
   "metadata": {},
   "outputs": [
    {
     "name": "stdout",
     "output_type": "stream",
     "text": [
      "No hay datos nulos en la columna 'popularity'.\n"
     ]
    }
   ],
   "source": [
    "chequear_nulos(movies, 'popularity')"
   ]
  },
  {
   "cell_type": "code",
   "execution_count": 275,
   "metadata": {},
   "outputs": [
    {
     "name": "stdout",
     "output_type": "stream",
     "text": [
      "La columna runtime es de tipo:  float64\n",
      "La columna vote_average es de tipo:  float64\n",
      "La columna vote_count es de tipo:  float64\n"
     ]
    }
   ],
   "source": [
    "# cols runtime, vote_average, vote_count\n",
    "\n",
    "print('La columna runtime es de tipo: ',movies.runtime.dtype)\n",
    "print('La columna vote_average es de tipo: ', movies.vote_average.dtype)\n",
    "print('La columna vote_count es de tipo: ', movies.vote_count.dtype)\n",
    "\n"
   ]
  },
  {
   "cell_type": "code",
   "execution_count": 276,
   "metadata": {},
   "outputs": [
    {
     "name": "stdout",
     "output_type": "stream",
     "text": [
      "Hay datos nulos en la columna 'runtime'.\n",
      "No hay datos nulos en la columna 'vote_average'.\n",
      "No hay datos nulos en la columna 'vote_count'.\n"
     ]
    }
   ],
   "source": [
    "chequear_nulos(movies, 'runtime')\n",
    "chequear_nulos(movies, 'vote_average')\n",
    "chequear_nulos(movies, 'vote_count')"
   ]
  },
  {
   "cell_type": "code",
   "execution_count": 277,
   "metadata": {},
   "outputs": [
    {
     "name": "stdout",
     "output_type": "stream",
     "text": [
      "Número de datos nulos en la columna 'runtime': 246\n"
     ]
    }
   ],
   "source": [
    "# Verificamos cuantos datos nulos hay en runtime para determinar que criterio optar.\n",
    "nulos_runtime = movies['runtime'].isna().sum()\n",
    "\n",
    "print(f\"Número de datos nulos en la columna 'runtime': {nulos_runtime}\")"
   ]
  },
  {
   "cell_type": "markdown",
   "metadata": {},
   "source": [
    "Dado que solo una pequeña fracción de los datos tiene valores nulos y el dataset es bastante grande, imputar con la mediana sería un enfoque equilibrado, ya que la mediana es robusta frente a valores atípicos y mantiene la mayoría de los datos intactos sin introducir un sesgo significativo."
   ]
  },
  {
   "cell_type": "code",
   "execution_count": 278,
   "metadata": {},
   "outputs": [
    {
     "name": "stderr",
     "output_type": "stream",
     "text": [
      "C:\\Users\\54370\\AppData\\Local\\Temp\\ipykernel_10796\\2548906701.py:2: FutureWarning: A value is trying to be set on a copy of a DataFrame or Series through chained assignment using an inplace method.\n",
      "The behavior will change in pandas 3.0. This inplace method will never work because the intermediate object on which we are setting values always behaves as a copy.\n",
      "\n",
      "For example, when doing 'df[col].method(value, inplace=True)', try using 'df.method({col: value}, inplace=True)' or df[col] = df[col].method(value) instead, to perform the operation inplace on the original object.\n",
      "\n",
      "\n",
      "  movies['runtime'].fillna(median_runtime, inplace=True)\n"
     ]
    }
   ],
   "source": [
    "median_runtime = movies['runtime'].median()\n",
    "movies['runtime'].fillna(median_runtime, inplace=True)"
   ]
  },
  {
   "cell_type": "code",
   "execution_count": 279,
   "metadata": {},
   "outputs": [
    {
     "name": "stdout",
     "output_type": "stream",
     "text": [
      "No hay datos nulos en la columna 'runtime'.\n"
     ]
    }
   ],
   "source": [
    "chequear_nulos(movies, 'runtime')\n"
   ]
  },
  {
   "cell_type": "code",
   "execution_count": 280,
   "metadata": {},
   "outputs": [
    {
     "data": {
      "text/plain": [
       "(45346, 20)"
      ]
     },
     "execution_count": 280,
     "metadata": {},
     "output_type": "execute_result"
    }
   ],
   "source": [
    "movies.shape"
   ]
  },
  {
   "cell_type": "markdown",
   "metadata": {},
   "source": [
    "### Valores NaN "
   ]
  },
  {
   "cell_type": "code",
   "execution_count": 281,
   "metadata": {},
   "outputs": [
    {
     "data": {
      "text/plain": [
       "Index(['id', 'belongs_to_collection', 'genres', 'original_language',\n",
       "       'overview', 'popularity', 'production_companies',\n",
       "       'production_countries', 'release_date', 'revenue', 'runtime',\n",
       "       'spoken_languages', 'status', 'tagline', 'title', 'vote_average',\n",
       "       'vote_count', 'budget', 'release_year', 'return'],\n",
       "      dtype='object')"
      ]
     },
     "execution_count": 281,
     "metadata": {},
     "output_type": "execute_result"
    }
   ],
   "source": [
    "movies.columns"
   ]
  },
  {
   "cell_type": "code",
   "execution_count": 282,
   "metadata": {},
   "outputs": [],
   "source": [
    "def contar_valores_nulos(dataframe, columnas):\n",
    "    for columna in columnas:\n",
    "        print(f\"La columna {columna} tiene: {dataframe[columna].isna().sum()} Valores NaN\")"
   ]
  },
  {
   "cell_type": "code",
   "execution_count": 283,
   "metadata": {},
   "outputs": [
    {
     "name": "stdout",
     "output_type": "stream",
     "text": [
      "La columna belongs_to_collection tiene: 40861 Valores NaN\n",
      "La columna genres tiene: 0 Valores NaN\n",
      "La columna overview tiene: 941 Valores NaN\n",
      "La columna production_companies tiene: 0 Valores NaN\n",
      "La columna production_countries tiene: 0 Valores NaN\n",
      "La columna spoken_languages tiene: 0 Valores NaN\n",
      "La columna status tiene: 80 Valores NaN\n",
      "La columna tagline tiene: 24959 Valores NaN\n",
      "La columna title tiene: 0 Valores NaN\n"
     ]
    }
   ],
   "source": [
    "# Lista de columnas a verificar\n",
    "columnas = [\n",
    "    'belongs_to_collection',\n",
    "    'genres',\n",
    "    'overview',\n",
    "    'production_companies',\n",
    "    'production_countries',\n",
    "    'spoken_languages',\n",
    "    'status',\n",
    "    'tagline',\n",
    "    'title'\n",
    "]\n",
    "\n",
    "# Llamada a la función con tu DataFrame y la lista de columnas\n",
    "contar_valores_nulos(movies, columnas)"
   ]
  },
  {
   "cell_type": "markdown",
   "metadata": {},
   "source": [
    "**1. belongs_to_collection (40861 Valores NaN)**  \n",
    "\n",
    "**Contexto:** Esta columna indica si una película pertenece a una colección.  \n",
    "**Proporción de NaN:** Muy alta (~91%).  \n",
    "**Recomendación:** Si la columna no es crucial para el análisis o modelo, considera eliminarla. Si crees que puede ser útil, podrías crear una columna binaria que indique si la película pertenece a una colección o no (1 si pertenece, 0 si no pertenece)"
   ]
  },
  {
   "cell_type": "code",
   "execution_count": 284,
   "metadata": {},
   "outputs": [],
   "source": [
    "# En este caso optamos por crear una columna binaria\n",
    "movies['belongs_to_collection'] = movies['belongs_to_collection'].notna().astype(int)"
   ]
  },
  {
   "cell_type": "code",
   "execution_count": 285,
   "metadata": {},
   "outputs": [
    {
     "data": {
      "text/plain": [
       "array([0, 1])"
      ]
     },
     "execution_count": 285,
     "metadata": {},
     "output_type": "execute_result"
    }
   ],
   "source": [
    "movies['belongs_to_collection'].unique()"
   ]
  },
  {
   "cell_type": "markdown",
   "metadata": {},
   "source": [
    "**2. overview (941 Valores NaN)**  \n",
    "**Contexto:** Esta columna contiene la descripción de la película.  \n",
    "**Proporción de NaN:** Moderada (~2%).  \n",
    "**Recomendación:** Dependiendo del análisis, podrías:  \n",
    "Eliminar filas: Si la columna es crucial y no quieres imputar.  \n",
    "Imputar con un valor: Podrías imputar con una cadena vacía o un texto como \"No overview available\"."
   ]
  },
  {
   "cell_type": "code",
   "execution_count": 286,
   "metadata": {},
   "outputs": [
    {
     "name": "stderr",
     "output_type": "stream",
     "text": [
      "C:\\Users\\54370\\AppData\\Local\\Temp\\ipykernel_10796\\1573553357.py:2: FutureWarning: A value is trying to be set on a copy of a DataFrame or Series through chained assignment using an inplace method.\n",
      "The behavior will change in pandas 3.0. This inplace method will never work because the intermediate object on which we are setting values always behaves as a copy.\n",
      "\n",
      "For example, when doing 'df[col].method(value, inplace=True)', try using 'df.method({col: value}, inplace=True)' or df[col] = df[col].method(value) instead, to perform the operation inplace on the original object.\n",
      "\n",
      "\n",
      "  movies['overview'].fillna('No overview available', inplace=True)\n"
     ]
    }
   ],
   "source": [
    "# Optamos por imputar 'No overview available'\n",
    "movies['overview'].fillna('No overview available', inplace=True)\n"
   ]
  },
  {
   "cell_type": "markdown",
   "metadata": {},
   "source": [
    "**3. status (80 Valores NaN)**  \n",
    "**Contexto:** Esta columna indica el estado de la película (e.g., 'Released', 'Post Production').  \n",
    "**Proporción de NaN:** Baja (~0.18%).  \n",
    "**Recomendación:** Podrías imputar con el valor más frecuente (Moda), que probablemente sea 'Released'."
   ]
  },
  {
   "cell_type": "code",
   "execution_count": 287,
   "metadata": {},
   "outputs": [
    {
     "name": "stderr",
     "output_type": "stream",
     "text": [
      "C:\\Users\\54370\\AppData\\Local\\Temp\\ipykernel_10796\\2253703077.py:2: FutureWarning: A value is trying to be set on a copy of a DataFrame or Series through chained assignment using an inplace method.\n",
      "The behavior will change in pandas 3.0. This inplace method will never work because the intermediate object on which we are setting values always behaves as a copy.\n",
      "\n",
      "For example, when doing 'df[col].method(value, inplace=True)', try using 'df.method({col: value}, inplace=True)' or df[col] = df[col].method(value) instead, to perform the operation inplace on the original object.\n",
      "\n",
      "\n",
      "  movies['status'].fillna(movies['status'].mode()[0], inplace=True)\n"
     ]
    }
   ],
   "source": [
    "# Imputamos por la Moda\n",
    "movies['status'].fillna(movies['status'].mode()[0], inplace=True)\n"
   ]
  },
  {
   "cell_type": "code",
   "execution_count": 288,
   "metadata": {},
   "outputs": [
    {
     "data": {
      "text/plain": [
       "4342     Released\n",
       "12947    Released\n",
       "17       Released\n",
       "474      Released\n",
       "256      Released\n",
       "           ...   \n",
       "45078    Released\n",
       "45273    Released\n",
       "21891    Released\n",
       "45398    Released\n",
       "20189    Released\n",
       "Name: status, Length: 45346, dtype: object"
      ]
     },
     "execution_count": 288,
     "metadata": {},
     "output_type": "execute_result"
    }
   ],
   "source": [
    "movies.status"
   ]
  },
  {
   "cell_type": "markdown",
   "metadata": {},
   "source": [
    "**4. tagline (24959 Valores NaN)**  \n",
    "**Contexto:** Esta columna contiene el eslogan de la película.  \n",
    "**Proporción de NaN:** Alta (~55%).  \n",
    "**Recomendación:** Similar a overview, podrías:  \n",
    "Eliminar filas: Si la columna es crucial y no quieres imputar.  \n",
    "Imputar con un valor: Podrías imputar con una cadena vacía o un texto como \"No tagline\"."
   ]
  },
  {
   "cell_type": "code",
   "execution_count": 289,
   "metadata": {},
   "outputs": [
    {
     "name": "stderr",
     "output_type": "stream",
     "text": [
      "C:\\Users\\54370\\AppData\\Local\\Temp\\ipykernel_10796\\14177463.py:2: FutureWarning: A value is trying to be set on a copy of a DataFrame or Series through chained assignment using an inplace method.\n",
      "The behavior will change in pandas 3.0. This inplace method will never work because the intermediate object on which we are setting values always behaves as a copy.\n",
      "\n",
      "For example, when doing 'df[col].method(value, inplace=True)', try using 'df.method({col: value}, inplace=True)' or df[col] = df[col].method(value) instead, to perform the operation inplace on the original object.\n",
      "\n",
      "\n",
      "  movies['tagline'].fillna(' ', inplace=True)\n"
     ]
    }
   ],
   "source": [
    "# Imputamos una cadena vacía\n",
    "movies['tagline'].fillna(' ', inplace=True)\n"
   ]
  },
  {
   "cell_type": "code",
   "execution_count": 290,
   "metadata": {},
   "outputs": [
    {
     "name": "stdout",
     "output_type": "stream",
     "text": [
      "La columna belongs_to_collection tiene: 0 Valores NaN\n",
      "La columna genres tiene: 0 Valores NaN\n",
      "La columna overview tiene: 0 Valores NaN\n",
      "La columna production_companies tiene: 0 Valores NaN\n",
      "La columna production_countries tiene: 0 Valores NaN\n",
      "La columna spoken_languages tiene: 0 Valores NaN\n",
      "La columna status tiene: 0 Valores NaN\n",
      "La columna tagline tiene: 0 Valores NaN\n",
      "La columna title tiene: 0 Valores NaN\n"
     ]
    }
   ],
   "source": [
    "# Comprobamos de nuevo las columnas si hay NaN\n",
    "\n",
    "# Llamada a la función con el DataFrame y la lista de columnas\n",
    "contar_valores_nulos(movies, columnas)"
   ]
  },
  {
   "cell_type": "markdown",
   "metadata": {},
   "source": [
    "### Desanidar columnas"
   ]
  },
  {
   "cell_type": "code",
   "execution_count": 291,
   "metadata": {},
   "outputs": [
    {
     "data": {
      "text/plain": [
       "\"[{'id': 18, 'name': 'Drama'}, {'id': 80, 'name': 'Crime'}]\""
      ]
     },
     "execution_count": 291,
     "metadata": {},
     "output_type": "execute_result"
    }
   ],
   "source": [
    "movies.iloc[0]['genres']"
   ]
  },
  {
   "cell_type": "code",
   "execution_count": 292,
   "metadata": {},
   "outputs": [],
   "source": [
    "import ast\n",
    "\n",
    "# Función para desanidar y concatenar valores\n",
    "def extract_and_concatenate(column, key):\n",
    "    def extract_values(value):\n",
    "        if pd.isna(value):\n",
    "            return ''\n",
    "        list_of_dicts = ast.literal_eval(value)\n",
    "        return ', '.join([d[key] for d in list_of_dicts])\n",
    "    return column.apply(extract_values)"
   ]
  },
  {
   "cell_type": "code",
   "execution_count": 293,
   "metadata": {},
   "outputs": [],
   "source": [
    "# Aplica la función a las columnas específicas\n",
    "movies['genres'] = extract_and_concatenate(movies['genres'], 'name')\n",
    "movies['production_companies'] = extract_and_concatenate(movies['production_companies'], 'name')\n",
    "movies['production_countries'] = extract_and_concatenate(movies['production_countries'], 'name')"
   ]
  },
  {
   "cell_type": "code",
   "execution_count": 294,
   "metadata": {},
   "outputs": [],
   "source": [
    "movies['spoken_languages'] = extract_and_concatenate(movies['spoken_languages'], 'name')"
   ]
  },
  {
   "cell_type": "code",
   "execution_count": 295,
   "metadata": {},
   "outputs": [
    {
     "data": {
      "text/plain": [
       "4342                           Drama, Crime\n",
       "12947                         Drama, Comedy\n",
       "17                            Crime, Comedy\n",
       "474                 Action, Thriller, Crime\n",
       "256      Adventure, Action, Science Fiction\n",
       "Name: genres, dtype: object"
      ]
     },
     "execution_count": 295,
     "metadata": {},
     "output_type": "execute_result"
    }
   ],
   "source": [
    "movies['genres'].head()"
   ]
  },
  {
   "cell_type": "code",
   "execution_count": 296,
   "metadata": {},
   "outputs": [
    {
     "data": {
      "text/plain": [
       "4342     Villealfa Filmproduction Oy, Finnish Film Foun...\n",
       "12947                          Villealfa Filmproduction Oy\n",
       "17                             Miramax Films, A Band Apart\n",
       "474      Universal Pictures, Largo Entertainment, JVC E...\n",
       "256      Lucasfilm, Twentieth Century Fox Film Corporation\n",
       "Name: production_companies, dtype: object"
      ]
     },
     "execution_count": 296,
     "metadata": {},
     "output_type": "execute_result"
    }
   ],
   "source": [
    "movies['production_companies'].head()"
   ]
  },
  {
   "cell_type": "code",
   "execution_count": 297,
   "metadata": {},
   "outputs": [
    {
     "data": {
      "text/plain": [
       "4342                             Finland\n",
       "12947                            Finland\n",
       "17              United States of America\n",
       "474      Japan, United States of America\n",
       "256             United States of America\n",
       "Name: production_countries, dtype: object"
      ]
     },
     "execution_count": 297,
     "metadata": {},
     "output_type": "execute_result"
    }
   ],
   "source": [
    "movies['production_countries'].head()"
   ]
  },
  {
   "cell_type": "code",
   "execution_count": 298,
   "metadata": {},
   "outputs": [
    {
     "data": {
      "text/plain": [
       "4342              suomi, Deutsch\n",
       "12947    English, suomi, svenska\n",
       "17                       English\n",
       "474                      English\n",
       "256                      English\n",
       "Name: spoken_languages, dtype: object"
      ]
     },
     "execution_count": 298,
     "metadata": {},
     "output_type": "execute_result"
    }
   ],
   "source": [
    "movies['spoken_languages'].head()"
   ]
  },
  {
   "cell_type": "code",
   "execution_count": 299,
   "metadata": {},
   "outputs": [
    {
     "data": {
      "text/html": [
       "<div>\n",
       "<style scoped>\n",
       "    .dataframe tbody tr th:only-of-type {\n",
       "        vertical-align: middle;\n",
       "    }\n",
       "\n",
       "    .dataframe tbody tr th {\n",
       "        vertical-align: top;\n",
       "    }\n",
       "\n",
       "    .dataframe thead th {\n",
       "        text-align: right;\n",
       "    }\n",
       "</style>\n",
       "<table border=\"1\" class=\"dataframe\">\n",
       "  <thead>\n",
       "    <tr style=\"text-align: right;\">\n",
       "      <th></th>\n",
       "      <th>id</th>\n",
       "      <th>belongs_to_collection</th>\n",
       "      <th>genres</th>\n",
       "      <th>original_language</th>\n",
       "      <th>overview</th>\n",
       "      <th>popularity</th>\n",
       "      <th>production_companies</th>\n",
       "      <th>production_countries</th>\n",
       "      <th>release_date</th>\n",
       "      <th>revenue</th>\n",
       "      <th>runtime</th>\n",
       "      <th>spoken_languages</th>\n",
       "      <th>status</th>\n",
       "      <th>tagline</th>\n",
       "      <th>title</th>\n",
       "      <th>vote_average</th>\n",
       "      <th>vote_count</th>\n",
       "      <th>budget</th>\n",
       "      <th>release_year</th>\n",
       "      <th>return</th>\n",
       "    </tr>\n",
       "  </thead>\n",
       "  <tbody>\n",
       "    <tr>\n",
       "      <th>4342</th>\n",
       "      <td>2</td>\n",
       "      <td>0</td>\n",
       "      <td>Drama, Crime</td>\n",
       "      <td>fi</td>\n",
       "      <td>Taisto Kasurinen is a Finnish coal miner whose...</td>\n",
       "      <td>3.860491</td>\n",
       "      <td>Villealfa Filmproduction Oy, Finnish Film Foun...</td>\n",
       "      <td>Finland</td>\n",
       "      <td>1988-10-21</td>\n",
       "      <td>0.0</td>\n",
       "      <td>69.0</td>\n",
       "      <td>suomi, Deutsch</td>\n",
       "      <td>Released</td>\n",
       "      <td></td>\n",
       "      <td>Ariel</td>\n",
       "      <td>7.1</td>\n",
       "      <td>44.0</td>\n",
       "      <td>0.0</td>\n",
       "      <td>1988</td>\n",
       "      <td>0.000000</td>\n",
       "    </tr>\n",
       "    <tr>\n",
       "      <th>12947</th>\n",
       "      <td>3</td>\n",
       "      <td>0</td>\n",
       "      <td>Drama, Comedy</td>\n",
       "      <td>fi</td>\n",
       "      <td>An episode in the life of Nikander, a garbage ...</td>\n",
       "      <td>2.292110</td>\n",
       "      <td>Villealfa Filmproduction Oy</td>\n",
       "      <td>Finland</td>\n",
       "      <td>1986-10-16</td>\n",
       "      <td>0.0</td>\n",
       "      <td>76.0</td>\n",
       "      <td>English, suomi, svenska</td>\n",
       "      <td>Released</td>\n",
       "      <td></td>\n",
       "      <td>Shadows in Paradise</td>\n",
       "      <td>7.1</td>\n",
       "      <td>35.0</td>\n",
       "      <td>0.0</td>\n",
       "      <td>1986</td>\n",
       "      <td>0.000000</td>\n",
       "    </tr>\n",
       "    <tr>\n",
       "      <th>17</th>\n",
       "      <td>5</td>\n",
       "      <td>0</td>\n",
       "      <td>Crime, Comedy</td>\n",
       "      <td>en</td>\n",
       "      <td>It's Ted the Bellhop's first night on the job....</td>\n",
       "      <td>9.026586</td>\n",
       "      <td>Miramax Films, A Band Apart</td>\n",
       "      <td>United States of America</td>\n",
       "      <td>1995-12-09</td>\n",
       "      <td>4300000.0</td>\n",
       "      <td>98.0</td>\n",
       "      <td>English</td>\n",
       "      <td>Released</td>\n",
       "      <td>Twelve outrageous guests. Four scandalous requ...</td>\n",
       "      <td>Four Rooms</td>\n",
       "      <td>6.5</td>\n",
       "      <td>539.0</td>\n",
       "      <td>4000000.0</td>\n",
       "      <td>1995</td>\n",
       "      <td>1.075000</td>\n",
       "    </tr>\n",
       "    <tr>\n",
       "      <th>474</th>\n",
       "      <td>6</td>\n",
       "      <td>0</td>\n",
       "      <td>Action, Thriller, Crime</td>\n",
       "      <td>en</td>\n",
       "      <td>While racing to a boxing match, Frank, Mike, J...</td>\n",
       "      <td>5.538671</td>\n",
       "      <td>Universal Pictures, Largo Entertainment, JVC E...</td>\n",
       "      <td>Japan, United States of America</td>\n",
       "      <td>1993-10-15</td>\n",
       "      <td>12136938.0</td>\n",
       "      <td>110.0</td>\n",
       "      <td>English</td>\n",
       "      <td>Released</td>\n",
       "      <td>Don't move. Don't whisper. Don't even breathe.</td>\n",
       "      <td>Judgment Night</td>\n",
       "      <td>6.4</td>\n",
       "      <td>79.0</td>\n",
       "      <td>0.0</td>\n",
       "      <td>1993</td>\n",
       "      <td>0.000000</td>\n",
       "    </tr>\n",
       "    <tr>\n",
       "      <th>256</th>\n",
       "      <td>11</td>\n",
       "      <td>1</td>\n",
       "      <td>Adventure, Action, Science Fiction</td>\n",
       "      <td>en</td>\n",
       "      <td>Princess Leia is captured and held hostage by ...</td>\n",
       "      <td>42.149697</td>\n",
       "      <td>Lucasfilm, Twentieth Century Fox Film Corporation</td>\n",
       "      <td>United States of America</td>\n",
       "      <td>1977-05-25</td>\n",
       "      <td>775398007.0</td>\n",
       "      <td>121.0</td>\n",
       "      <td>English</td>\n",
       "      <td>Released</td>\n",
       "      <td>A long time ago in a galaxy far, far away...</td>\n",
       "      <td>Star Wars</td>\n",
       "      <td>8.1</td>\n",
       "      <td>6778.0</td>\n",
       "      <td>11000000.0</td>\n",
       "      <td>1977</td>\n",
       "      <td>70.490728</td>\n",
       "    </tr>\n",
       "  </tbody>\n",
       "</table>\n",
       "</div>"
      ],
      "text/plain": [
       "       id  belongs_to_collection                              genres  \\\n",
       "4342    2                      0                        Drama, Crime   \n",
       "12947   3                      0                       Drama, Comedy   \n",
       "17      5                      0                       Crime, Comedy   \n",
       "474     6                      0             Action, Thriller, Crime   \n",
       "256    11                      1  Adventure, Action, Science Fiction   \n",
       "\n",
       "      original_language                                           overview  \\\n",
       "4342                 fi  Taisto Kasurinen is a Finnish coal miner whose...   \n",
       "12947                fi  An episode in the life of Nikander, a garbage ...   \n",
       "17                   en  It's Ted the Bellhop's first night on the job....   \n",
       "474                  en  While racing to a boxing match, Frank, Mike, J...   \n",
       "256                  en  Princess Leia is captured and held hostage by ...   \n",
       "\n",
       "       popularity                               production_companies  \\\n",
       "4342     3.860491  Villealfa Filmproduction Oy, Finnish Film Foun...   \n",
       "12947    2.292110                        Villealfa Filmproduction Oy   \n",
       "17       9.026586                        Miramax Films, A Band Apart   \n",
       "474      5.538671  Universal Pictures, Largo Entertainment, JVC E...   \n",
       "256     42.149697  Lucasfilm, Twentieth Century Fox Film Corporation   \n",
       "\n",
       "                  production_countries release_date      revenue  runtime  \\\n",
       "4342                           Finland   1988-10-21          0.0     69.0   \n",
       "12947                          Finland   1986-10-16          0.0     76.0   \n",
       "17            United States of America   1995-12-09    4300000.0     98.0   \n",
       "474    Japan, United States of America   1993-10-15   12136938.0    110.0   \n",
       "256           United States of America   1977-05-25  775398007.0    121.0   \n",
       "\n",
       "              spoken_languages    status  \\\n",
       "4342            suomi, Deutsch  Released   \n",
       "12947  English, suomi, svenska  Released   \n",
       "17                     English  Released   \n",
       "474                    English  Released   \n",
       "256                    English  Released   \n",
       "\n",
       "                                                 tagline                title  \\\n",
       "4342                                                                    Ariel   \n",
       "12947                                                     Shadows in Paradise   \n",
       "17     Twelve outrageous guests. Four scandalous requ...           Four Rooms   \n",
       "474       Don't move. Don't whisper. Don't even breathe.       Judgment Night   \n",
       "256         A long time ago in a galaxy far, far away...            Star Wars   \n",
       "\n",
       "       vote_average  vote_count      budget  release_year     return  \n",
       "4342            7.1        44.0         0.0          1988   0.000000  \n",
       "12947           7.1        35.0         0.0          1986   0.000000  \n",
       "17              6.5       539.0   4000000.0          1995   1.075000  \n",
       "474             6.4        79.0         0.0          1993   0.000000  \n",
       "256             8.1      6778.0  11000000.0          1977  70.490728  "
      ]
     },
     "execution_count": 299,
     "metadata": {},
     "output_type": "execute_result"
    }
   ],
   "source": [
    "movies.head()"
   ]
  },
  {
   "cell_type": "code",
   "execution_count": 300,
   "metadata": {},
   "outputs": [
    {
     "data": {
      "text/plain": [
       "Index(['id', 'belongs_to_collection', 'genres', 'original_language',\n",
       "       'overview', 'popularity', 'production_companies',\n",
       "       'production_countries', 'release_date', 'revenue', 'runtime',\n",
       "       'spoken_languages', 'status', 'tagline', 'title', 'vote_average',\n",
       "       'vote_count', 'budget', 'release_year', 'return'],\n",
       "      dtype='object')"
      ]
     },
     "execution_count": 300,
     "metadata": {},
     "output_type": "execute_result"
    }
   ],
   "source": [
    "movies.columns"
   ]
  },
  {
   "cell_type": "markdown",
   "metadata": {},
   "source": [
    "Reorganizar columnas"
   ]
  },
  {
   "cell_type": "code",
   "execution_count": 301,
   "metadata": {},
   "outputs": [],
   "source": [
    "movies = movies[['id', 'title', 'tagline', 'overview', 'runtime',\n",
    "                        'original_language', 'genres', 'belongs_to_collection',\n",
    "                        'status', 'release_date', 'release_year',\n",
    "                        'popularity', 'vote_count', 'vote_average',\n",
    "                        'production_companies', 'production_countries', 'spoken_languages',\n",
    "                        'revenue', 'budget', 'return']]"
   ]
  },
  {
   "cell_type": "code",
   "execution_count": 302,
   "metadata": {},
   "outputs": [
    {
     "name": "stdout",
     "output_type": "stream",
     "text": [
      "<class 'pandas.core.frame.DataFrame'>\n",
      "Index: 45346 entries, 4342 to 20189\n",
      "Data columns (total 20 columns):\n",
      " #   Column                 Non-Null Count  Dtype         \n",
      "---  ------                 --------------  -----         \n",
      " 0   id                     45346 non-null  Int64         \n",
      " 1   title                  45346 non-null  object        \n",
      " 2   tagline                45346 non-null  object        \n",
      " 3   overview               45346 non-null  object        \n",
      " 4   runtime                45346 non-null  float64       \n",
      " 5   original_language      45335 non-null  object        \n",
      " 6   genres                 45346 non-null  object        \n",
      " 7   belongs_to_collection  45346 non-null  int64         \n",
      " 8   status                 45346 non-null  object        \n",
      " 9   release_date           45346 non-null  datetime64[ns]\n",
      " 10  release_year           45346 non-null  int32         \n",
      " 11  popularity             45346 non-null  float64       \n",
      " 12  vote_count             45346 non-null  float64       \n",
      " 13  vote_average           45346 non-null  float64       \n",
      " 14  production_companies   45346 non-null  object        \n",
      " 15  production_countries   45346 non-null  object        \n",
      " 16  spoken_languages       45346 non-null  object        \n",
      " 17  revenue                45346 non-null  float64       \n",
      " 18  budget                 45346 non-null  float64       \n",
      " 19  return                 45346 non-null  float64       \n",
      "dtypes: Int64(1), datetime64[ns](1), float64(7), int32(1), int64(1), object(9)\n",
      "memory usage: 7.1+ MB\n"
     ]
    }
   ],
   "source": [
    "# dataframe movies limpio\n",
    "movies.info()"
   ]
  },
  {
   "cell_type": "markdown",
   "metadata": {},
   "source": [
    "### Dataframe credits"
   ]
  },
  {
   "cell_type": "code",
   "execution_count": 303,
   "metadata": {},
   "outputs": [
    {
     "name": "stdout",
     "output_type": "stream",
     "text": [
      "<class 'pandas.core.frame.DataFrame'>\n",
      "RangeIndex: 45476 entries, 0 to 45475\n",
      "Data columns (total 3 columns):\n",
      " #   Column  Non-Null Count  Dtype \n",
      "---  ------  --------------  ----- \n",
      " 0   cast    45476 non-null  object\n",
      " 1   crew    45476 non-null  object\n",
      " 2   id      45476 non-null  int64 \n",
      "dtypes: int64(1), object(2)\n",
      "memory usage: 1.0+ MB\n"
     ]
    }
   ],
   "source": [
    "credits.info()"
   ]
  },
  {
   "cell_type": "code",
   "execution_count": 304,
   "metadata": {},
   "outputs": [
    {
     "data": {
      "text/plain": [
       "\"[{'cast_id': 14, 'character': 'Woody (voice)', 'credit_id': '52fe4284c3a36847f8024f95', 'gender': 2, 'id': 31, 'name': 'Tom Hanks', 'order': 0, 'profile_path': '/pQFoyx7rp09CJTAb932F2g8Nlho.jpg'}, {'cast_id': 15, 'character': 'Buzz Lightyear (voice)', 'credit_id': '52fe4284c3a36847f8024f99', 'gender': 2, 'id': 12898, 'name': 'Tim Allen', 'order': 1, 'profile_path': '/uX2xVf6pMmPepxnvFWyBtjexzgY.jpg'}, {'cast_id': 16, 'character': 'Mr. Potato Head (voice)', 'credit_id': '52fe4284c3a36847f8024f9d', 'gender': 2, 'id': 7167, 'name': 'Don Rickles', 'order': 2, 'profile_path': '/h5BcaDMPRVLHLDzbQavec4xfSdt.jpg'}, {'cast_id': 17, 'character': 'Slinky Dog (voice)', 'credit_id': '52fe4284c3a36847f8024fa1', 'gender': 2, 'id': 12899, 'name': 'Jim Varney', 'order': 3, 'profile_path': '/eIo2jVVXYgjDtaHoF19Ll9vtW7h.jpg'}, {'cast_id': 18, 'character': 'Rex (voice)', 'credit_id': '52fe4284c3a36847f8024fa5', 'gender': 2, 'id': 12900, 'name': 'Wallace Shawn', 'order': 4, 'profile_path': '/oGE6JqPP2xH4tNORKNqxbNPYi7u.jpg'}, {'cast_id': 19, 'character': 'Hamm (voice)', 'credit_id': '52fe4284c3a36847f8024fa9', 'gender': 2, 'id': 7907, 'name': 'John Ratzenberger', 'order': 5, 'profile_path': '/yGechiKWL6TJDfVE2KPSJYqdMsY.jpg'}, {'cast_id': 20, 'character': 'Bo Peep (voice)', 'credit_id': '52fe4284c3a36847f8024fad', 'gender': 1, 'id': 8873, 'name': 'Annie Potts', 'order': 6, 'profile_path': '/eryXT84RL41jHSJcMy4kS3u9y6w.jpg'}, {'cast_id': 26, 'character': 'Andy (voice)', 'credit_id': '52fe4284c3a36847f8024fc1', 'gender': 0, 'id': 1116442, 'name': 'John Morris', 'order': 7, 'profile_path': '/vYGyvK4LzeaUCoNSHtsuqJUY15M.jpg'}, {'cast_id': 22, 'character': 'Sid (voice)', 'credit_id': '52fe4284c3a36847f8024fb1', 'gender': 2, 'id': 12901, 'name': 'Erik von Detten', 'order': 8, 'profile_path': '/twnF1ZaJ1FUNUuo6xLXwcxjayBE.jpg'}, {'cast_id': 23, 'character': 'Mrs. Davis (voice)', 'credit_id': '52fe4284c3a36847f8024fb5', 'gender': 1, 'id': 12133, 'name': 'Laurie Metcalf', 'order': 9, 'profile_path': '/unMMIT60eoBM2sN2nyR7EZ2BvvD.jpg'}, {'cast_id': 24, 'character': 'Sergeant (voice)', 'credit_id': '52fe4284c3a36847f8024fb9', 'gender': 2, 'id': 8655, 'name': 'R. Lee Ermey', 'order': 10, 'profile_path': '/r8GBqFBjypLUP9VVqDqfZ7wYbSs.jpg'}, {'cast_id': 25, 'character': 'Hannah (voice)', 'credit_id': '52fe4284c3a36847f8024fbd', 'gender': 1, 'id': 12903, 'name': 'Sarah Freeman', 'order': 11, 'profile_path': None}, {'cast_id': 27, 'character': 'TV Announcer (voice)', 'credit_id': '52fe4284c3a36847f8024fc5', 'gender': 2, 'id': 37221, 'name': 'Penn Jillette', 'order': 12, 'profile_path': '/zmAaXUdx12NRsssgHbk1T31j2x9.jpg'}]\""
      ]
     },
     "execution_count": 304,
     "metadata": {},
     "output_type": "execute_result"
    }
   ],
   "source": [
    "credits.iloc[0]['cast']"
   ]
  },
  {
   "cell_type": "code",
   "execution_count": 305,
   "metadata": {},
   "outputs": [
    {
     "data": {
      "text/plain": [
       "'[{\\'credit_id\\': \\'52fe4284c3a36847f8024f49\\', \\'department\\': \\'Directing\\', \\'gender\\': 2, \\'id\\': 7879, \\'job\\': \\'Director\\', \\'name\\': \\'John Lasseter\\', \\'profile_path\\': \\'/7EdqiNbr4FRjIhKHyPPdFfEEEFG.jpg\\'}, {\\'credit_id\\': \\'52fe4284c3a36847f8024f4f\\', \\'department\\': \\'Writing\\', \\'gender\\': 2, \\'id\\': 12891, \\'job\\': \\'Screenplay\\', \\'name\\': \\'Joss Whedon\\', \\'profile_path\\': \\'/dTiVsuaTVTeGmvkhcyJvKp2A5kr.jpg\\'}, {\\'credit_id\\': \\'52fe4284c3a36847f8024f55\\', \\'department\\': \\'Writing\\', \\'gender\\': 2, \\'id\\': 7, \\'job\\': \\'Screenplay\\', \\'name\\': \\'Andrew Stanton\\', \\'profile_path\\': \\'/pvQWsu0qc8JFQhMVJkTHuexUAa1.jpg\\'}, {\\'credit_id\\': \\'52fe4284c3a36847f8024f5b\\', \\'department\\': \\'Writing\\', \\'gender\\': 2, \\'id\\': 12892, \\'job\\': \\'Screenplay\\', \\'name\\': \\'Joel Cohen\\', \\'profile_path\\': \\'/dAubAiZcvKFbboWlj7oXOkZnTSu.jpg\\'}, {\\'credit_id\\': \\'52fe4284c3a36847f8024f61\\', \\'department\\': \\'Writing\\', \\'gender\\': 0, \\'id\\': 12893, \\'job\\': \\'Screenplay\\', \\'name\\': \\'Alec Sokolow\\', \\'profile_path\\': \\'/v79vlRYi94BZUQnkkyznbGUZLjT.jpg\\'}, {\\'credit_id\\': \\'52fe4284c3a36847f8024f67\\', \\'department\\': \\'Production\\', \\'gender\\': 1, \\'id\\': 12894, \\'job\\': \\'Producer\\', \\'name\\': \\'Bonnie Arnold\\', \\'profile_path\\': None}, {\\'credit_id\\': \\'52fe4284c3a36847f8024f6d\\', \\'department\\': \\'Production\\', \\'gender\\': 0, \\'id\\': 12895, \\'job\\': \\'Executive Producer\\', \\'name\\': \\'Ed Catmull\\', \\'profile_path\\': None}, {\\'credit_id\\': \\'52fe4284c3a36847f8024f73\\', \\'department\\': \\'Production\\', \\'gender\\': 2, \\'id\\': 12896, \\'job\\': \\'Producer\\', \\'name\\': \\'Ralph Guggenheim\\', \\'profile_path\\': None}, {\\'credit_id\\': \\'52fe4284c3a36847f8024f79\\', \\'department\\': \\'Production\\', \\'gender\\': 2, \\'id\\': 12897, \\'job\\': \\'Executive Producer\\', \\'name\\': \\'Steve Jobs\\', \\'profile_path\\': \\'/mOMP3SwD5qWQSR0ldCIByd3guTV.jpg\\'}, {\\'credit_id\\': \\'52fe4284c3a36847f8024f8b\\', \\'department\\': \\'Editing\\', \\'gender\\': 2, \\'id\\': 8, \\'job\\': \\'Editor\\', \\'name\\': \\'Lee Unkrich\\', \\'profile_path\\': \\'/bdTCCXjgOV3YyaNmLGYGOxFQMOc.jpg\\'}, {\\'credit_id\\': \\'52fe4284c3a36847f8024f91\\', \\'department\\': \\'Art\\', \\'gender\\': 2, \\'id\\': 7883, \\'job\\': \\'Art Direction\\', \\'name\\': \\'Ralph Eggleston\\', \\'profile_path\\': \\'/uUfcGKDsKO1aROMpXRs67Hn6RvR.jpg\\'}, {\\'credit_id\\': \\'598331bf925141421201044b\\', \\'department\\': \\'Editing\\', \\'gender\\': 2, \\'id\\': 1168870, \\'job\\': \\'Editor\\', \\'name\\': \\'Robert Gordon\\', \\'profile_path\\': None}, {\\'credit_id\\': \\'5892168cc3a36809660095f9\\', \\'department\\': \\'Sound\\', \\'gender\\': 0, \\'id\\': 1552883, \\'job\\': \\'Foley Editor\\', \\'name\\': \\'Mary Helen Leasman\\', \\'profile_path\\': None}, {\\'credit_id\\': \\'5531824d9251415289000945\\', \\'department\\': \\'Visual Effects\\', \\'gender\\': 0, \\'id\\': 1453514, \\'job\\': \\'Animation\\', \\'name\\': \\'Kim Blanchette\\', \\'profile_path\\': None}, {\\'credit_id\\': \\'589215969251412dcb009bf6\\', \\'department\\': \\'Sound\\', \\'gender\\': 0, \\'id\\': 1414182, \\'job\\': \\'ADR Editor\\', \\'name\\': \\'Marilyn McCoppen\\', \\'profile_path\\': None}, {\\'credit_id\\': \\'589217099251412dc500a018\\', \\'department\\': \\'Sound\\', \\'gender\\': 2, \\'id\\': 7885, \\'job\\': \\'Orchestrator\\', \\'name\\': \\'Randy Newman\\', \\'profile_path\\': \\'/w0JzfoiM25nrnxYOzosPHRq6mlE.jpg\\'}, {\\'credit_id\\': \\'5693e6b29251417b0e0000e3\\', \\'department\\': \\'Editing\\', \\'gender\\': 0, \\'id\\': 1429549, \\'job\\': \\'Color Timer\\', \\'name\\': \\'Dale E. Grahn\\', \\'profile_path\\': None}, {\\'credit_id\\': \\'572e2522c3a36869e6001a9c\\', \\'department\\': \\'Visual Effects\\', \\'gender\\': 0, \\'id\\': 7949, \\'job\\': \\'CG Painter\\', \\'name\\': \\'Robin Cooper\\', \\'profile_path\\': None}, {\\'credit_id\\': \\'574f12309251415ca1000012\\', \\'department\\': \\'Writing\\', \\'gender\\': 2, \\'id\\': 7879, \\'job\\': \\'Original Story\\', \\'name\\': \\'John Lasseter\\', \\'profile_path\\': \\'/7EdqiNbr4FRjIhKHyPPdFfEEEFG.jpg\\'}, {\\'credit_id\\': \\'574f1240c3a3682e7300001c\\', \\'department\\': \\'Writing\\', \\'gender\\': 2, \\'id\\': 12890, \\'job\\': \\'Original Story\\', \\'name\\': \\'Pete Docter\\', \\'profile_path\\': \\'/r6ngPgnReA3RHmKjmSoVsc6Awjp.jpg\\'}, {\\'credit_id\\': \\'574f12519251415c92000015\\', \\'department\\': \\'Writing\\', \\'gender\\': 0, \\'id\\': 7911, \\'job\\': \\'Original Story\\', \\'name\\': \\'Joe Ranft\\', \\'profile_path\\': \\'/f1BoWC2JbCcfP1e5hKfGsxkHzVU.jpg\\'}, {\\'credit_id\\': \\'574f12cec3a3682e82000022\\', \\'department\\': \\'Crew\\', \\'gender\\': 0, \\'id\\': 1629419, \\'job\\': \\'Post Production Supervisor\\', \\'name\\': \\'Patsy Bouge\\', \\'profile_path\\': None}, {\\'credit_id\\': \\'574f14f19251415ca1000082\\', \\'department\\': \\'Art\\', \\'gender\\': 0, \\'id\\': 7961, \\'job\\': \\'Sculptor\\', \\'name\\': \\'Norm DeCarlo\\', \\'profile_path\\': None}, {\\'credit_id\\': \\'5751ae4bc3a3683772002b7f\\', \\'department\\': \\'Visual Effects\\', \\'gender\\': 2, \\'id\\': 12905, \\'job\\': \\'Animation Director\\', \\'name\\': \\'Ash Brannon\\', \\'profile_path\\': \\'/6ueWgPEEBHvS3De2BHYQnYjRTig.jpg\\'}, {\\'credit_id\\': \\'5891edbe9251412dc5007cd6\\', \\'department\\': \\'Sound\\', \\'gender\\': 2, \\'id\\': 7885, \\'job\\': \\'Music\\', \\'name\\': \\'Randy Newman\\', \\'profile_path\\': \\'/w0JzfoiM25nrnxYOzosPHRq6mlE.jpg\\'}, {\\'credit_id\\': \\'589213d39251412dc8009832\\', \\'department\\': \\'Directing\\', \\'gender\\': 0, \\'id\\': 1748707, \\'job\\': \\'Layout\\', \\'name\\': \\'Roman Figun\\', \\'profile_path\\': None}, {\\'credit_id\\': \\'5892173dc3a3680968009351\\', \\'department\\': \\'Sound\\', \\'gender\\': 2, \\'id\\': 4949, \\'job\\': \\'Orchestrator\\', \\'name\\': \\'Don Davis\\', \\'profile_path\\': None}, {\\'credit_id\\': \\'589217cec3a3686b0a0052ba\\', \\'department\\': \\'Sound\\', \\'gender\\': 0, \\'id\\': 1372885, \\'job\\': \\'Music Editor\\', \\'name\\': \\'James Flamberg\\', \\'profile_path\\': None}, {\\'credit_id\\': \\'58921831c3a3686348004a64\\', \\'department\\': \\'Editing\\', \\'gender\\': 0, \\'id\\': 1739962, \\'job\\': \\'Negative Cutter\\', \\'name\\': \\'Mary Beth Smith\\', \\'profile_path\\': None}, {\\'credit_id\\': \\'58921838c3a36809700096c0\\', \\'department\\': \\'Editing\\', \\'gender\\': 0, \\'id\\': 1748513, \\'job\\': \\'Negative Cutter\\', \\'name\\': \\'Rick Mackay\\', \\'profile_path\\': None}, {\\'credit_id\\': \\'589218429251412dd1009d1b\\', \\'department\\': \\'Art\\', \\'gender\\': 0, \\'id\\': 1458006, \\'job\\': \\'Title Designer\\', \\'name\\': \\'Susan Bradley\\', \\'profile_path\\': None}, {\\'credit_id\\': \\'5891ed99c3a3680966007670\\', \\'department\\': \\'Crew\\', \\'gender\\': 0, \\'id\\': 1748557, \\'job\\': \\'Supervising Technical Director\\', \\'name\\': \\'William Reeves\\', \\'profile_path\\': None}, {\\'credit_id\\': \\'5891edcec3a3686b0a002eb2\\', \\'department\\': \\'Sound\\', \\'gender\\': 2, \\'id\\': 7885, \\'job\\': \\'Songs\\', \\'name\\': \\'Randy Newman\\', \\'profile_path\\': \\'/w0JzfoiM25nrnxYOzosPHRq6mlE.jpg\\'}, {\\'credit_id\\': \\'5891edf9c3a36809700075e6\\', \\'department\\': \\'Writing\\', \\'gender\\': 2, \\'id\\': 7, \\'job\\': \\'Original Story\\', \\'name\\': \\'Andrew Stanton\\', \\'profile_path\\': \\'/pvQWsu0qc8JFQhMVJkTHuexUAa1.jpg\\'}, {\\'credit_id\\': \\'58920f0b9251412dd7009104\\', \\'department\\': \\'Crew\\', \\'gender\\': 2, \\'id\\': 12890, \\'job\\': \\'Supervising Animator\\', \\'name\\': \\'Pete Docter\\', \\'profile_path\\': \\'/r6ngPgnReA3RHmKjmSoVsc6Awjp.jpg\\'}, {\\'credit_id\\': \\'58920f1fc3a3680977009021\\', \\'department\\': \\'Sound\\', \\'gender\\': 2, \\'id\\': 2216, \\'job\\': \\'Sound Designer\\', \\'name\\': \\'Gary Rydstrom\\', \\'profile_path\\': \\'/jZpr1nVfO7lldWI0YtmP1FGw7Rj.jpg\\'}, {\\'credit_id\\': \\'58920f389251412dd700912d\\', \\'department\\': \\'Production\\', \\'gender\\': 0, \\'id\\': 12909, \\'job\\': \\'Production Supervisor\\', \\'name\\': \\'Karen Robert Jackson\\', \\'profile_path\\': None}, {\\'credit_id\\': \\'58920fbd9251412dcb00969c\\', \\'department\\': \\'Crew\\', \\'gender\\': 0, \\'id\\': 953331, \\'job\\': \\'Executive Music Producer\\', \\'name\\': \\'Chris Montan\\', \\'profile_path\\': None}, {\\'credit_id\\': \\'589210069251412dd7009219\\', \\'department\\': \\'Visual Effects\\', \\'gender\\': 0, \\'id\\': 7893, \\'job\\': \\'Animation Director\\', \\'name\\': \\'Rich Quade\\', \\'profile_path\\': None}, {\\'credit_id\\': \\'589210329251412dcd00943b\\', \\'department\\': \\'Visual Effects\\', \\'gender\\': 0, \\'id\\': 8025, \\'job\\': \\'Animation\\', \\'name\\': \\'Michael Berenstein\\', \\'profile_path\\': None}, {\\'credit_id\\': \\'5892103bc3a368096a009180\\', \\'department\\': \\'Visual Effects\\', \\'gender\\': 0, \\'id\\': 78009, \\'job\\': \\'Animation\\', \\'name\\': \\'Colin Brady\\', \\'profile_path\\': None}, {\\'credit_id\\': \\'5892105dc3a3680968008db2\\', \\'department\\': \\'Visual Effects\\', \\'gender\\': 0, \\'id\\': 1748682, \\'job\\': \\'Animation\\', \\'name\\': \\'Davey Crockett Feiten\\', \\'profile_path\\': None}, {\\'credit_id\\': \\'589210669251412dcd009466\\', \\'department\\': \\'Visual Effects\\', \\'gender\\': 0, \\'id\\': 1454030, \\'job\\': \\'Animation\\', \\'name\\': \\'Angie Glocka\\', \\'profile_path\\': None}, {\\'credit_id\\': \\'5892107c9251412dd1009613\\', \\'department\\': \\'Visual Effects\\', \\'gender\\': 0, \\'id\\': 1748683, \\'job\\': \\'Animation\\', \\'name\\': \\'Rex Grignon\\', \\'profile_path\\': None}, {\\'credit_id\\': \\'5892108ac3a3680973008d3f\\', \\'department\\': \\'Visual Effects\\', \\'gender\\': 0, \\'id\\': 1748684, \\'job\\': \\'Animation\\', \\'name\\': \\'Tom K. Gurney\\', \\'profile_path\\': None}, {\\'credit_id\\': \\'58921093c3a3686348004477\\', \\'department\\': \\'Visual Effects\\', \\'gender\\': 2, \\'id\\': 8029, \\'job\\': \\'Animation\\', \\'name\\': \\'Jimmy Hayward\\', \\'profile_path\\': \\'/lTDRpudEY7BDwTefXbXzMlmb0ui.jpg\\'}, {\\'credit_id\\': \\'5892109b9251412dcd0094b0\\', \\'department\\': \\'Visual Effects\\', \\'gender\\': 0, \\'id\\': 1426773, \\'job\\': \\'Animation\\', \\'name\\': \\'Hal T. Hickel\\', \\'profile_path\\': None}, {\\'credit_id\\': \\'589210a29251412dc5009a29\\', \\'department\\': \\'Visual Effects\\', \\'gender\\': 0, \\'id\\': 8035, \\'job\\': \\'Animation\\', \\'name\\': \\'Karen Kiser\\', \\'profile_path\\': None}, {\\'credit_id\\': \\'589210ccc3a3680977009191\\', \\'department\\': \\'Visual Effects\\', \\'gender\\': 0, \\'id\\': 1748688, \\'job\\': \\'Animation\\', \\'name\\': \\'Anthony B. LaMolinara\\', \\'profile_path\\': None}, {\\'credit_id\\': \\'589210d7c3a3686b0a004c1f\\', \\'department\\': \\'Visual Effects\\', \\'gender\\': 0, \\'id\\': 587314, \\'job\\': \\'Animation\\', \\'name\\': \\'Guionne Leroy\\', \\'profile_path\\': None}, {\\'credit_id\\': \\'589210e1c3a36809770091a7\\', \\'department\\': \\'Visual Effects\\', \\'gender\\': 2, \\'id\\': 7918, \\'job\\': \\'Animation\\', \\'name\\': \\'Bud Luckey\\', \\'profile_path\\': \\'/pcCh7G19FKMNijmPQg1PMH1btic.jpg\\'}, {\\'credit_id\\': \\'589210ee9251412dc200978a\\', \\'department\\': \\'Visual Effects\\', \\'gender\\': 0, \\'id\\': 1748689, \\'job\\': \\'Animation\\', \\'name\\': \\'Les Major\\', \\'profile_path\\': None}, {\\'credit_id\\': \\'589210fa9251412dc8009595\\', \\'department\\': \\'Visual Effects\\', \\'gender\\': 2, \\'id\\': 7892, \\'job\\': \\'Animation\\', \\'name\\': \\'Glenn McQueen\\', \\'profile_path\\': None}, {\\'credit_id\\': \\'589211029251412dc8009598\\', \\'department\\': \\'Visual Effects\\', \\'gender\\': 0, \\'id\\': 555795, \\'job\\': \\'Animation\\', \\'name\\': \\'Mark Oftedal\\', \\'profile_path\\': None}, {\\'credit_id\\': \\'5892110b9251412dc800959d\\', \\'department\\': \\'Visual Effects\\', \\'gender\\': 2, \\'id\\': 7882, \\'job\\': \\'Animation\\', \\'name\\': \\'Jeff Pidgeon\\', \\'profile_path\\': \\'/yLddkg5HcgbJg00cS13GVBnP0HY.jpg\\'}, {\\'credit_id\\': \\'58921113c3a36863480044e4\\', \\'department\\': \\'Visual Effects\\', \\'gender\\': 0, \\'id\\': 8017, \\'job\\': \\'Animation\\', \\'name\\': \\'Jeff Pratt\\', \\'profile_path\\': None}, {\\'credit_id\\': \\'5892111c9251412dcb0097e9\\', \\'department\\': \\'Visual Effects\\', \\'gender\\': 0, \\'id\\': 1184140, \\'job\\': \\'Animation\\', \\'name\\': \\'Steve Rabatich\\', \\'profile_path\\': None}, {\\'credit_id\\': \\'58921123c3a36809700090f6\\', \\'department\\': \\'Visual Effects\\', \\'gender\\': 0, \\'id\\': 8049, \\'job\\': \\'Animation\\', \\'name\\': \\'Roger Rose\\', \\'profile_path\\': None}, {\\'credit_id\\': \\'5892112b9251412dcb0097fb\\', \\'department\\': \\'Visual Effects\\', \\'gender\\': 0, \\'id\\': 1509559, \\'job\\': \\'Animation\\', \\'name\\': \\'Steve Segal\\', \\'profile_path\\': None}, {\\'credit_id\\': \\'589211349251412dc80095c3\\', \\'department\\': \\'Visual Effects\\', \\'gender\\': 0, \\'id\\': 1748691, \\'job\\': \\'Animation\\', \\'name\\': \\'Doug Sheppeck\\', \\'profile_path\\': None}, {\\'credit_id\\': \\'5892113cc3a3680970009106\\', \\'department\\': \\'Visual Effects\\', \\'gender\\': 0, \\'id\\': 8050, \\'job\\': \\'Animation\\', \\'name\\': \\'Alan Sperling\\', \\'profile_path\\': None}, {\\'credit_id\\': \\'58921148c3a3686b0a004c99\\', \\'department\\': \\'Visual Effects\\', \\'gender\\': 0, \\'id\\': 8010, \\'job\\': \\'Animation\\', \\'name\\': \\'Doug Sweetland\\', \\'profile_path\\': None}, {\\'credit_id\\': \\'58921150c3a3680966009125\\', \\'department\\': \\'Visual Effects\\', \\'gender\\': 0, \\'id\\': 8044, \\'job\\': \\'Animation\\', \\'name\\': \\'David Tart\\', \\'profile_path\\': None}, {\\'credit_id\\': \\'589211629251412dc5009b00\\', \\'department\\': \\'Visual Effects\\', \\'gender\\': 0, \\'id\\': 1454034, \\'job\\': \\'Animation\\', \\'name\\': \\'Ken Willard\\', \\'profile_path\\': None}, {\\'credit_id\\': \\'589211c1c3a3686b0a004d28\\', \\'department\\': \\'Visual Effects\\', \\'gender\\': 0, \\'id\\': 7887, \\'job\\': \\'Visual Effects Supervisor\\', \\'name\\': \\'Thomas Porter\\', \\'profile_path\\': None}, {\\'credit_id\\': \\'589211d4c3a3680968008ed9\\', \\'department\\': \\'Visual Effects\\', \\'gender\\': 0, \\'id\\': 1406878, \\'job\\': \\'Visual Effects\\', \\'name\\': \\'Mark Thomas Henne\\', \\'profile_path\\': None}, {\\'credit_id\\': \\'589211f59251412dd4008e65\\', \\'department\\': \\'Visual Effects\\', \\'gender\\': 0, \\'id\\': 1748698, \\'job\\': \\'Visual Effects\\', \\'name\\': \\'Oren Jacob\\', \\'profile_path\\': None}, {\\'credit_id\\': \\'58921242c3a368096a00939b\\', \\'department\\': \\'Visual Effects\\', \\'gender\\': 0, \\'id\\': 1748699, \\'job\\': \\'Visual Effects\\', \\'name\\': \\'Darwyn Peachey\\', \\'profile_path\\': None}, {\\'credit_id\\': \\'5892124b9251412dc5009bd2\\', \\'department\\': \\'Visual Effects\\', \\'gender\\': 0, \\'id\\': 1748701, \\'job\\': \\'Visual Effects\\', \\'name\\': \\'Mitch Prater\\', \\'profile_path\\': None}, {\\'credit_id\\': \\'58921264c3a3686b0a004dbf\\', \\'department\\': \\'Visual Effects\\', \\'gender\\': 0, \\'id\\': 1748703, \\'job\\': \\'Visual Effects\\', \\'name\\': \\'Brian M. Rosen\\', \\'profile_path\\': None}, {\\'credit_id\\': \\'589212709251412dcd009676\\', \\'department\\': \\'Lighting\\', \\'gender\\': 1, \\'id\\': 12912, \\'job\\': \\'Lighting Supervisor\\', \\'name\\': \\'Sharon Calahan\\', \\'profile_path\\': None}, {\\'credit_id\\': \\'5892127fc3a3686b0a004de5\\', \\'department\\': \\'Lighting\\', \\'gender\\': 0, \\'id\\': 7899, \\'job\\': \\'Lighting Supervisor\\', \\'name\\': \\'Galyn Susman\\', \\'profile_path\\': None}, {\\'credit_id\\': \\'589212cdc3a3680970009268\\', \\'department\\': \\'Visual Effects\\', \\'gender\\': 0, \\'id\\': 12915, \\'job\\': \\'CG Painter\\', \\'name\\': \\'William Cone\\', \\'profile_path\\': None}, {\\'credit_id\\': \\'5892130f9251412dc8009791\\', \\'department\\': \\'Art\\', \\'gender\\': 0, \\'id\\': 1748705, \\'job\\': \\'Sculptor\\', \\'name\\': \\'Shelley Daniels Lekven\\', \\'profile_path\\': None}, {\\'credit_id\\': \\'5892131c9251412dd4008f4c\\', \\'department\\': \\'Visual Effects\\', \\'gender\\': 2, \\'id\\': 7889, \\'job\\': \\'Character Designer\\', \\'name\\': \\'Bob Pauley\\', \\'profile_path\\': None}, {\\'credit_id\\': \\'589213249251412dd100987b\\', \\'department\\': \\'Visual Effects\\', \\'gender\\': 2, \\'id\\': 7918, \\'job\\': \\'Character Designer\\', \\'name\\': \\'Bud Luckey\\', \\'profile_path\\': \\'/pcCh7G19FKMNijmPQg1PMH1btic.jpg\\'}, {\\'credit_id\\': \\'5892132b9251412dc80097b1\\', \\'department\\': \\'Visual Effects\\', \\'gender\\': 2, \\'id\\': 7, \\'job\\': \\'Character Designer\\', \\'name\\': \\'Andrew Stanton\\', \\'profile_path\\': \\'/pvQWsu0qc8JFQhMVJkTHuexUAa1.jpg\\'}, {\\'credit_id\\': \\'58921332c3a368634800467b\\', \\'department\\': \\'Visual Effects\\', \\'gender\\': 0, \\'id\\': 12915, \\'job\\': \\'Character Designer\\', \\'name\\': \\'William Cone\\', \\'profile_path\\': None}, {\\'credit_id\\': \\'5892135f9251412dd4008f90\\', \\'department\\': \\'Visual Effects\\', \\'gender\\': 0, \\'id\\': 1748706, \\'job\\': \\'Character Designer\\', \\'name\\': \\'Steve Johnson\\', \\'profile_path\\': None}, {\\'credit_id\\': \\'58921384c3a3680973008fd4\\', \\'department\\': \\'Visual Effects\\', \\'gender\\': 0, \\'id\\': 1176752, \\'job\\': \\'Character Designer\\', \\'name\\': \\'Dan Haskett\\', \\'profile_path\\': None}, {\\'credit_id\\': \\'5892138e9251412dc20099fc\\', \\'department\\': \\'Visual Effects\\', \\'gender\\': 0, \\'id\\': 1088034, \\'job\\': \\'Character Designer\\', \\'name\\': \\'Tom Holloway\\', \\'profile_path\\': \\'/a0r0T2usTBpgMI5aZbRBDW1fTl8.jpg\\'}, {\\'credit_id\\': \\'58921395c3a368097700942f\\', \\'department\\': \\'Visual Effects\\', \\'gender\\': 0, \\'id\\': 1447465, \\'job\\': \\'Character Designer\\', \\'name\\': \\'Jean Gillmore\\', \\'profile_path\\': None}, {\\'credit_id\\': \\'589213e2c3a3680973009026\\', \\'department\\': \\'Directing\\', \\'gender\\': 0, \\'id\\': 1748709, \\'job\\': \\'Layout\\', \\'name\\': \\'Desirée Mourad\\', \\'profile_path\\': None}, {\\'credit_id\\': \\'589214099251412dc5009d57\\', \\'department\\': \\'Art\\', \\'gender\\': 0, \\'id\\': 1748710, \\'job\\': \\'Set Dresser\\', \\'name\\': \"Kelly O\\'Connell\", \\'profile_path\\': None}, {\\'credit_id\\': \\'58921411c3a3686b0a004f70\\', \\'department\\': \\'Art\\', \\'gender\\': 0, \\'id\\': 1443471, \\'job\\': \\'Set Dresser\\', \\'name\\': \\'Sonoko Konishi\\', \\'profile_path\\': None}, {\\'credit_id\\': \\'58921434c3a368096a00956e\\', \\'department\\': \\'Art\\', \\'gender\\': 0, \\'id\\': 1748711, \\'job\\': \\'Set Dresser\\', \\'name\\': \\'Ann M. Rockwell\\', \\'profile_path\\': None}, {\\'credit_id\\': \\'5892144ac3a36809680090de\\', \\'department\\': \\'Editing\\', \\'gender\\': 0, \\'id\\': 1748712, \\'job\\': \\'Editorial Manager\\', \\'name\\': \\'Julie M. McDonald\\', \\'profile_path\\': None}, {\\'credit_id\\': \\'58921479c3a368096800910f\\', \\'department\\': \\'Editing\\', \\'gender\\': 0, \\'id\\': 1589729, \\'job\\': \\'Assistant Editor\\', \\'name\\': \\'Robin Lee\\', \\'profile_path\\': None}, {\\'credit_id\\': \\'5892148b9251412dd10099cc\\', \\'department\\': \\'Editing\\', \\'gender\\': 0, \\'id\\': 1748716, \\'job\\': \\'Assistant Editor\\', \\'name\\': \\'Tom Freeman\\', \\'profile_path\\': None}, {\\'credit_id\\': \\'589214959251412dcb009b1f\\', \\'department\\': \\'Editing\\', \\'gender\\': 0, \\'id\\': 1748717, \\'job\\': \\'Assistant Editor\\', \\'name\\': \\'Ada Cochavi\\', \\'profile_path\\': None}, {\\'credit_id\\': \\'5892149ec3a3686348004798\\', \\'department\\': \\'Editing\\', \\'gender\\': 0, \\'id\\': 1336438, \\'job\\': \\'Assistant Editor\\', \\'name\\': \\'Dana Mulligan\\', \\'profile_path\\': None}, {\\'credit_id\\': \\'589214adc3a368096a0095db\\', \\'department\\': \\'Editing\\', \\'gender\\': 0, \\'id\\': 1748718, \\'job\\': \\'Editorial Coordinator\\', \\'name\\': \\'Deirdre Morrison\\', \\'profile_path\\': None}, {\\'credit_id\\': \\'589214c7c3a368097700952b\\', \\'department\\': \\'Production\\', \\'gender\\': 0, \\'id\\': 1748719, \\'job\\': \\'Production Coordinator\\', \\'name\\': \\'Lori Lombardo\\', \\'profile_path\\': None}, {\\'credit_id\\': \\'589214cec3a368096a009603\\', \\'department\\': \\'Production\\', \\'gender\\': 0, \\'id\\': 1748720, \\'job\\': \\'Production Coordinator\\', \\'name\\': \\'Ellen Devine\\', \\'profile_path\\': None}, {\\'credit_id\\': \\'589214e39251412dc8009904\\', \\'department\\': \\'Crew\\', \\'gender\\': 0, \\'id\\': 1468014, \\'job\\': \\'Unit Publicist\\', \\'name\\': \\'Lauren Beth Strogoff\\', \\'profile_path\\': None}, {\\'credit_id\\': \\'58921544c3a3686b0a00507d\\', \\'department\\': \\'Sound\\', \\'gender\\': 2, \\'id\\': 2216, \\'job\\': \\'Sound Re-Recording Mixer\\', \\'name\\': \\'Gary Rydstrom\\', \\'profile_path\\': \\'/jZpr1nVfO7lldWI0YtmP1FGw7Rj.jpg\\'}, {\\'credit_id\\': \\'5892154c9251412dd1009a56\\', \\'department\\': \\'Sound\\', \\'gender\\': 0, \\'id\\': 1425978, \\'job\\': \\'Sound Re-Recording Mixer\\', \\'name\\': \\'Gary Summers\\', \\'profile_path\\': None}, {\\'credit_id\\': \\'58921555c3a36809680091bd\\', \\'department\\': \\'Sound\\', \\'gender\\': 2, \\'id\\': 8276, \\'job\\': \\'Supervising Sound Editor\\', \\'name\\': \\'Tim Holland\\', \\'profile_path\\': None}, {\\'credit_id\\': \\'589215c39251412dcb009c12\\', \\'department\\': \\'Sound\\', \\'gender\\': 0, \\'id\\': 7069, \\'job\\': \\'Sound Effects Editor\\', \\'name\\': \\'Pat Jackson\\', \\'profile_path\\': None}, {\\'credit_id\\': \\'58921698c3a368096a009788\\', \\'department\\': \\'Crew\\', \\'gender\\': 2, \\'id\\': 15894, \\'job\\': \\'Sound Design Assistant\\', \\'name\\': \\'Tom Myers\\', \\'profile_path\\': None}, {\\'credit_id\\': \\'589216a89251412dc2009ca4\\', \\'department\\': \\'Sound\\', \\'gender\\': 0, \\'id\\': 1414177, \\'job\\': \\'Assistant Sound Editor\\', \\'name\\': \\'J.R. Grubbs\\', \\'profile_path\\': None}, {\\'credit_id\\': \\'589216c19251412dc2009cb9\\', \\'department\\': \\'Sound\\', \\'gender\\': 1, \\'id\\': 1748724, \\'job\\': \\'Assistant Sound Editor\\', \\'name\\': \\'Susan Sanford\\', \\'profile_path\\': None}, {\\'credit_id\\': \\'589216ccc3a3680973009274\\', \\'department\\': \\'Sound\\', \\'gender\\': 0, \\'id\\': 1748725, \\'job\\': \\'Assistant Sound Editor\\', \\'name\\': \\'Susan Popovic\\', \\'profile_path\\': None}, {\\'credit_id\\': \\'589216d79251412dc8009aa0\\', \\'department\\': \\'Sound\\', \\'gender\\': 0, \\'id\\': 8067, \\'job\\': \\'Assistant Sound Editor\\', \\'name\\': \\'Dan Engstrom\\', \\'profile_path\\': None}, {\\'credit_id\\': \\'589216e49251412dcd009a4f\\', \\'department\\': \\'Production\\', \\'gender\\': 1, \\'id\\': 7902, \\'job\\': \\'Casting Consultant\\', \\'name\\': \\'Ruth Lambert\\', \\'profile_path\\': None}, {\\'credit_id\\': \\'589216f39251412dc2009cf3\\', \\'department\\': \\'Production\\', \\'gender\\': 0, \\'id\\': 84493, \\'job\\': \\'ADR Voice Casting\\', \\'name\\': \\'Mickie McGowan\\', \\'profile_path\\': \\'/k7TjJBfINsg8vLQxJwos6XObAD6.jpg\\'}]'"
      ]
     },
     "execution_count": 305,
     "metadata": {},
     "output_type": "execute_result"
    }
   ],
   "source": [
    "credits.iloc[0]['crew']"
   ]
  },
  {
   "cell_type": "code",
   "execution_count": 306,
   "metadata": {},
   "outputs": [
    {
     "data": {
      "text/plain": [
       "0    [{'credit_id': '52fe4284c3a36847f8024f49', 'de...\n",
       "1    [{'credit_id': '52fe44bfc3a36847f80a7cd1', 'de...\n",
       "2    [{'credit_id': '52fe466a9251416c75077a89', 'de...\n",
       "Name: crew, dtype: object"
      ]
     },
     "execution_count": 306,
     "metadata": {},
     "output_type": "execute_result"
    }
   ],
   "source": [
    "credits['crew'].head(3)"
   ]
  },
  {
   "cell_type": "code",
   "execution_count": 307,
   "metadata": {},
   "outputs": [],
   "source": [
    "# merging the 'movies' and 'credits' dataframe based on 'id' column\n",
    "movies = movies.merge(credits,how='left',on='id')\n",
    "movies = movies.dropna(subset=['cast','crew'] , axis=0)"
   ]
  },
  {
   "cell_type": "code",
   "execution_count": 308,
   "metadata": {},
   "outputs": [
    {
     "name": "stdout",
     "output_type": "stream",
     "text": [
      "<class 'pandas.core.frame.DataFrame'>\n",
      "Index: 45389 entries, 0 to 45389\n",
      "Data columns (total 22 columns):\n",
      " #   Column                 Non-Null Count  Dtype         \n",
      "---  ------                 --------------  -----         \n",
      " 0   id                     45389 non-null  Int64         \n",
      " 1   title                  45389 non-null  object        \n",
      " 2   tagline                45389 non-null  object        \n",
      " 3   overview               45389 non-null  object        \n",
      " 4   runtime                45389 non-null  float64       \n",
      " 5   original_language      45378 non-null  object        \n",
      " 6   genres                 45389 non-null  object        \n",
      " 7   belongs_to_collection  45389 non-null  int64         \n",
      " 8   status                 45389 non-null  object        \n",
      " 9   release_date           45389 non-null  datetime64[ns]\n",
      " 10  release_year           45389 non-null  int32         \n",
      " 11  popularity             45389 non-null  float64       \n",
      " 12  vote_count             45389 non-null  float64       \n",
      " 13  vote_average           45389 non-null  float64       \n",
      " 14  production_companies   45389 non-null  object        \n",
      " 15  production_countries   45389 non-null  object        \n",
      " 16  spoken_languages       45389 non-null  object        \n",
      " 17  revenue                45389 non-null  float64       \n",
      " 18  budget                 45389 non-null  float64       \n",
      " 19  return                 45389 non-null  float64       \n",
      " 20  cast                   45389 non-null  object        \n",
      " 21  crew                   45389 non-null  object        \n",
      "dtypes: Int64(1), datetime64[ns](1), float64(7), int32(1), int64(1), object(11)\n",
      "memory usage: 7.8+ MB\n"
     ]
    }
   ],
   "source": [
    "movies.info()"
   ]
  },
  {
   "cell_type": "code",
   "execution_count": 309,
   "metadata": {},
   "outputs": [],
   "source": [
    "# function to get director names from 'crew' column\n",
    "def get_director_names(row):\n",
    "    new_list = ast.literal_eval(row)    \n",
    "    if new_list == [] or isinstance(new_list,float):\n",
    "        return np.nan\n",
    "    else:\n",
    "        inner = []\n",
    "        for dictionary in new_list:\n",
    "            job = dictionary.get('job')\n",
    "            department = dictionary.get('department')\n",
    "            if((job == 'Director') & (department == 'Directing')):\n",
    "                inner.append(dictionary['name'])\n",
    "        return inner"
   ]
  },
  {
   "cell_type": "code",
   "execution_count": 310,
   "metadata": {},
   "outputs": [],
   "source": [
    "def json_to_list(row,want='name'):\n",
    "    new_list = ast.literal_eval(row)    \n",
    "    if new_list == [] or isinstance(new_list,float):\n",
    "        return (np.nan)\n",
    "    else:\n",
    "        inner = []\n",
    "        for j in new_list:\n",
    "            inner.append(j[want])\n",
    "        return (inner)"
   ]
  },
  {
   "cell_type": "code",
   "execution_count": 311,
   "metadata": {},
   "outputs": [],
   "source": [
    "movies['director'] = movies['crew'].apply(get_director_names)\n",
    "movies['casting'] = movies['cast'].apply(json_to_list)"
   ]
  },
  {
   "cell_type": "code",
   "execution_count": 312,
   "metadata": {},
   "outputs": [
    {
     "data": {
      "text/plain": [
       "0                                     [Aki Kaurismäki]\n",
       "1                                     [Aki Kaurismäki]\n",
       "2    [Allison Anders, Alexandre Rockwell, Robert Ro...\n",
       "3                                    [Stephen Hopkins]\n",
       "4                                       [George Lucas]\n",
       "Name: director, dtype: object"
      ]
     },
     "execution_count": 312,
     "metadata": {},
     "output_type": "execute_result"
    }
   ],
   "source": [
    "movies['director'].head()"
   ]
  },
  {
   "cell_type": "code",
   "execution_count": 313,
   "metadata": {},
   "outputs": [
    {
     "data": {
      "text/plain": [
       "0    [Turo Pajala, Susanna Haavisto, Matti Pellonpä...\n",
       "1    [Matti Pellonpää, Kati Outinen, Sakari Kuosman...\n",
       "2    [Tim Roth, Antonio Banderas, Jennifer Beals, M...\n",
       "3    [Emilio Estevez, Cuba Gooding Jr., Denis Leary...\n",
       "4    [Mark Hamill, Harrison Ford, Carrie Fisher, Pe...\n",
       "Name: casting, dtype: object"
      ]
     },
     "execution_count": 313,
     "metadata": {},
     "output_type": "execute_result"
    }
   ],
   "source": [
    "movies['casting'].head()"
   ]
  },
  {
   "cell_type": "code",
   "execution_count": 314,
   "metadata": {},
   "outputs": [
    {
     "data": {
      "text/plain": [
       "['id',\n",
       " 'title',\n",
       " 'tagline',\n",
       " 'overview',\n",
       " 'runtime',\n",
       " 'original_language',\n",
       " 'genres',\n",
       " 'belongs_to_collection',\n",
       " 'status',\n",
       " 'release_date',\n",
       " 'release_year',\n",
       " 'popularity',\n",
       " 'vote_count',\n",
       " 'vote_average',\n",
       " 'production_companies',\n",
       " 'production_countries',\n",
       " 'spoken_languages',\n",
       " 'revenue',\n",
       " 'budget',\n",
       " 'return',\n",
       " 'cast',\n",
       " 'crew',\n",
       " 'director',\n",
       " 'casting']"
      ]
     },
     "execution_count": 314,
     "metadata": {},
     "output_type": "execute_result"
    }
   ],
   "source": [
    "movies.columns.tolist()"
   ]
  },
  {
   "cell_type": "code",
   "execution_count": 315,
   "metadata": {},
   "outputs": [],
   "source": [
    "# Eliminar las columnas 'cast' y 'crew'\n",
    "movies = movies.drop(columns=['cast', 'crew'])"
   ]
  },
  {
   "cell_type": "markdown",
   "metadata": {},
   "source": [
    "### Reduccir Dataframe segun popularidad, promedio de votos y cantidad de votos\n",
    "Debido a las limitaciones del servidor y modo de optimizar el proceso reducimos la cantidad de datos de 45000 a 4500 aproximadamente (nos quedamos con el 10% de las mejores películas). Ya que el objetivo es recomendar peliculas, elegimos de la data original las películas mejores valoradas."
   ]
  },
  {
   "cell_type": "code",
   "execution_count": 316,
   "metadata": {},
   "outputs": [
    {
     "name": "stdout",
     "output_type": "stream",
     "text": [
      "Max Popularity: 547.488298, Min Popularity: 0.0\n",
      "Max Vote Count: 14075.0, Min Vote Count: 0.0\n",
      "Max Vote Average: 10.0, Min Vote Average: 0.0\n",
      "Tamaño del DataFrame reducido: 4538\n"
     ]
    }
   ],
   "source": [
    "# Obtener los valores máximos y mínimos de las columnas especificadas\n",
    "max_popularity = movies['popularity'].max()\n",
    "min_popularity = movies['popularity'].min()\n",
    "\n",
    "max_vote_count = movies['vote_count'].max()\n",
    "min_vote_count = movies['vote_count'].min()\n",
    "\n",
    "max_vote_average = movies['vote_average'].max()\n",
    "min_vote_average = movies['vote_average'].min()\n",
    "\n",
    "print(f'Max Popularity: {max_popularity}, Min Popularity: {min_popularity}')\n",
    "print(f'Max Vote Count: {max_vote_count}, Min Vote Count: {min_vote_count}')\n",
    "print(f'Max Vote Average: {max_vote_average}, Min Vote Average: {min_vote_average}')\n",
    "\n",
    "# Ordenar el DataFrame por las columnas 'popularity', 'vote_count', 'vote_average'\n",
    "movies_sorted = movies.sort_values(by=['popularity', 'vote_count', 'vote_average'], ascending=False)\n",
    "\n",
    "# Seleccionar el 10% superior del DataFrame ordenado\n",
    "top_10_percent = int(len(movies) * 0.10)\n",
    "movies_top_10_percent = movies_sorted.head(top_10_percent)\n",
    "\n",
    "print(f'Tamaño del DataFrame reducido: {len(movies_top_10_percent)}')\n"
   ]
  },
  {
   "cell_type": "code",
   "execution_count": 317,
   "metadata": {},
   "outputs": [
    {
     "name": "stdout",
     "output_type": "stream",
     "text": [
      "<class 'pandas.core.frame.DataFrame'>\n",
      "Index: 4538 entries, 36871 to 2743\n",
      "Data columns (total 22 columns):\n",
      " #   Column                 Non-Null Count  Dtype         \n",
      "---  ------                 --------------  -----         \n",
      " 0   id                     4538 non-null   Int64         \n",
      " 1   title                  4538 non-null   object        \n",
      " 2   tagline                4538 non-null   object        \n",
      " 3   overview               4538 non-null   object        \n",
      " 4   runtime                4538 non-null   float64       \n",
      " 5   original_language      4538 non-null   object        \n",
      " 6   genres                 4538 non-null   object        \n",
      " 7   belongs_to_collection  4538 non-null   int64         \n",
      " 8   status                 4538 non-null   object        \n",
      " 9   release_date           4538 non-null   datetime64[ns]\n",
      " 10  release_year           4538 non-null   int32         \n",
      " 11  popularity             4538 non-null   float64       \n",
      " 12  vote_count             4538 non-null   float64       \n",
      " 13  vote_average           4538 non-null   float64       \n",
      " 14  production_companies   4538 non-null   object        \n",
      " 15  production_countries   4538 non-null   object        \n",
      " 16  spoken_languages       4538 non-null   object        \n",
      " 17  revenue                4538 non-null   float64       \n",
      " 18  budget                 4538 non-null   float64       \n",
      " 19  return                 4538 non-null   float64       \n",
      " 20  director               4538 non-null   object        \n",
      " 21  casting                4535 non-null   object        \n",
      "dtypes: Int64(1), datetime64[ns](1), float64(7), int32(1), int64(1), object(11)\n",
      "memory usage: 802.1+ KB\n"
     ]
    }
   ],
   "source": [
    "movies_top_10_percent.info()"
   ]
  },
  {
   "cell_type": "code",
   "execution_count": 318,
   "metadata": {},
   "outputs": [
    {
     "data": {
      "text/html": [
       "<div>\n",
       "<style scoped>\n",
       "    .dataframe tbody tr th:only-of-type {\n",
       "        vertical-align: middle;\n",
       "    }\n",
       "\n",
       "    .dataframe tbody tr th {\n",
       "        vertical-align: top;\n",
       "    }\n",
       "\n",
       "    .dataframe thead th {\n",
       "        text-align: right;\n",
       "    }\n",
       "</style>\n",
       "<table border=\"1\" class=\"dataframe\">\n",
       "  <thead>\n",
       "    <tr style=\"text-align: right;\">\n",
       "      <th></th>\n",
       "      <th>id</th>\n",
       "      <th>title</th>\n",
       "      <th>tagline</th>\n",
       "      <th>overview</th>\n",
       "      <th>runtime</th>\n",
       "      <th>original_language</th>\n",
       "      <th>genres</th>\n",
       "      <th>belongs_to_collection</th>\n",
       "      <th>status</th>\n",
       "      <th>release_date</th>\n",
       "      <th>...</th>\n",
       "      <th>vote_count</th>\n",
       "      <th>vote_average</th>\n",
       "      <th>production_companies</th>\n",
       "      <th>production_countries</th>\n",
       "      <th>spoken_languages</th>\n",
       "      <th>revenue</th>\n",
       "      <th>budget</th>\n",
       "      <th>return</th>\n",
       "      <th>director</th>\n",
       "      <th>casting</th>\n",
       "    </tr>\n",
       "  </thead>\n",
       "  <tbody>\n",
       "    <tr>\n",
       "      <th>36871</th>\n",
       "      <td>211672</td>\n",
       "      <td>Minions</td>\n",
       "      <td>Before Gru, they had a history of bad bosses</td>\n",
       "      <td>Minions Stuart, Kevin and Bob are recruited by...</td>\n",
       "      <td>91.0</td>\n",
       "      <td>en</td>\n",
       "      <td>Family, Animation, Adventure, Comedy</td>\n",
       "      <td>1</td>\n",
       "      <td>Released</td>\n",
       "      <td>2015-06-17</td>\n",
       "      <td>...</td>\n",
       "      <td>4729.0</td>\n",
       "      <td>6.4</td>\n",
       "      <td>Universal Pictures, Illumination Entertainment</td>\n",
       "      <td>United States of America</td>\n",
       "      <td>English</td>\n",
       "      <td>1.156731e+09</td>\n",
       "      <td>74000000.0</td>\n",
       "      <td>15.631499</td>\n",
       "      <td>[Kyle Balda, Pierre Coffin]</td>\n",
       "      <td>[Sandra Bullock, Jon Hamm, Michael Keaton, All...</td>\n",
       "    </tr>\n",
       "    <tr>\n",
       "      <th>40874</th>\n",
       "      <td>297762</td>\n",
       "      <td>Wonder Woman</td>\n",
       "      <td>Power. Grace. Wisdom. Wonder.</td>\n",
       "      <td>An Amazon princess comes to the world of Man t...</td>\n",
       "      <td>141.0</td>\n",
       "      <td>en</td>\n",
       "      <td>Action, Adventure, Fantasy</td>\n",
       "      <td>1</td>\n",
       "      <td>Released</td>\n",
       "      <td>2017-05-30</td>\n",
       "      <td>...</td>\n",
       "      <td>5025.0</td>\n",
       "      <td>7.2</td>\n",
       "      <td>Dune Entertainment, Atlas Entertainment, Warne...</td>\n",
       "      <td>United States of America</td>\n",
       "      <td>Deutsch, English</td>\n",
       "      <td>8.205804e+08</td>\n",
       "      <td>149000000.0</td>\n",
       "      <td>5.507251</td>\n",
       "      <td>[Patty Jenkins]</td>\n",
       "      <td>[Gal Gadot, Chris Pine, Robin Wright, Danny Hu...</td>\n",
       "    </tr>\n",
       "    <tr>\n",
       "      <th>41691</th>\n",
       "      <td>321612</td>\n",
       "      <td>Beauty and the Beast</td>\n",
       "      <td>Be our guest.</td>\n",
       "      <td>A live-action adaptation of Disney's version o...</td>\n",
       "      <td>129.0</td>\n",
       "      <td>en</td>\n",
       "      <td>Family, Fantasy, Romance</td>\n",
       "      <td>0</td>\n",
       "      <td>Released</td>\n",
       "      <td>2017-03-16</td>\n",
       "      <td>...</td>\n",
       "      <td>5530.0</td>\n",
       "      <td>6.8</td>\n",
       "      <td>Walt Disney Pictures, Mandeville Films</td>\n",
       "      <td>United Kingdom, United States of America</td>\n",
       "      <td>English</td>\n",
       "      <td>1.262886e+09</td>\n",
       "      <td>160000000.0</td>\n",
       "      <td>7.893040</td>\n",
       "      <td>[Bill Condon]</td>\n",
       "      <td>[Emma Watson, Dan Stevens, Luke Evans, Kevin K...</td>\n",
       "    </tr>\n",
       "    <tr>\n",
       "      <th>42466</th>\n",
       "      <td>339403</td>\n",
       "      <td>Baby Driver</td>\n",
       "      <td>All you need is one killer track.</td>\n",
       "      <td>After being coerced into working for a crime b...</td>\n",
       "      <td>113.0</td>\n",
       "      <td>en</td>\n",
       "      <td>Action, Crime</td>\n",
       "      <td>0</td>\n",
       "      <td>Released</td>\n",
       "      <td>2017-06-28</td>\n",
       "      <td>...</td>\n",
       "      <td>2083.0</td>\n",
       "      <td>7.2</td>\n",
       "      <td>Big Talk Productions, TriStar Pictures, Media ...</td>\n",
       "      <td>United Kingdom, United States of America</td>\n",
       "      <td>English</td>\n",
       "      <td>2.245113e+08</td>\n",
       "      <td>34000000.0</td>\n",
       "      <td>6.603274</td>\n",
       "      <td>[Edgar Wright]</td>\n",
       "      <td>[Ansel Elgort, Lily James, Kevin Spacey, Jamie...</td>\n",
       "    </tr>\n",
       "    <tr>\n",
       "      <th>35261</th>\n",
       "      <td>177572</td>\n",
       "      <td>Big Hero 6</td>\n",
       "      <td>From the creators of Wreck-it Ralph and Frozen</td>\n",
       "      <td>The special bond that develops between plus-si...</td>\n",
       "      <td>102.0</td>\n",
       "      <td>en</td>\n",
       "      <td>Adventure, Family, Animation, Action, Comedy</td>\n",
       "      <td>0</td>\n",
       "      <td>Released</td>\n",
       "      <td>2014-10-24</td>\n",
       "      <td>...</td>\n",
       "      <td>6289.0</td>\n",
       "      <td>7.8</td>\n",
       "      <td>Walt Disney Pictures, Walt Disney Animation St...</td>\n",
       "      <td>United States of America</td>\n",
       "      <td>English</td>\n",
       "      <td>6.521054e+08</td>\n",
       "      <td>165000000.0</td>\n",
       "      <td>3.952154</td>\n",
       "      <td>[Chris Williams, Don Hall]</td>\n",
       "      <td>[Scott Adsit, Ryan Potter, Daniel Henney, T.J....</td>\n",
       "    </tr>\n",
       "  </tbody>\n",
       "</table>\n",
       "<p>5 rows × 22 columns</p>\n",
       "</div>"
      ],
      "text/plain": [
       "           id                 title  \\\n",
       "36871  211672               Minions   \n",
       "40874  297762          Wonder Woman   \n",
       "41691  321612  Beauty and the Beast   \n",
       "42466  339403           Baby Driver   \n",
       "35261  177572            Big Hero 6   \n",
       "\n",
       "                                              tagline  \\\n",
       "36871    Before Gru, they had a history of bad bosses   \n",
       "40874                   Power. Grace. Wisdom. Wonder.   \n",
       "41691                                   Be our guest.   \n",
       "42466               All you need is one killer track.   \n",
       "35261  From the creators of Wreck-it Ralph and Frozen   \n",
       "\n",
       "                                                overview  runtime  \\\n",
       "36871  Minions Stuart, Kevin and Bob are recruited by...     91.0   \n",
       "40874  An Amazon princess comes to the world of Man t...    141.0   \n",
       "41691  A live-action adaptation of Disney's version o...    129.0   \n",
       "42466  After being coerced into working for a crime b...    113.0   \n",
       "35261  The special bond that develops between plus-si...    102.0   \n",
       "\n",
       "      original_language                                        genres  \\\n",
       "36871                en          Family, Animation, Adventure, Comedy   \n",
       "40874                en                    Action, Adventure, Fantasy   \n",
       "41691                en                      Family, Fantasy, Romance   \n",
       "42466                en                                 Action, Crime   \n",
       "35261                en  Adventure, Family, Animation, Action, Comedy   \n",
       "\n",
       "       belongs_to_collection    status release_date  ...  vote_count  \\\n",
       "36871                      1  Released   2015-06-17  ...      4729.0   \n",
       "40874                      1  Released   2017-05-30  ...      5025.0   \n",
       "41691                      0  Released   2017-03-16  ...      5530.0   \n",
       "42466                      0  Released   2017-06-28  ...      2083.0   \n",
       "35261                      0  Released   2014-10-24  ...      6289.0   \n",
       "\n",
       "       vote_average                               production_companies  \\\n",
       "36871           6.4     Universal Pictures, Illumination Entertainment   \n",
       "40874           7.2  Dune Entertainment, Atlas Entertainment, Warne...   \n",
       "41691           6.8             Walt Disney Pictures, Mandeville Films   \n",
       "42466           7.2  Big Talk Productions, TriStar Pictures, Media ...   \n",
       "35261           7.8  Walt Disney Pictures, Walt Disney Animation St...   \n",
       "\n",
       "                           production_countries  spoken_languages  \\\n",
       "36871                  United States of America           English   \n",
       "40874                  United States of America  Deutsch, English   \n",
       "41691  United Kingdom, United States of America           English   \n",
       "42466  United Kingdom, United States of America           English   \n",
       "35261                  United States of America           English   \n",
       "\n",
       "            revenue       budget     return                     director  \\\n",
       "36871  1.156731e+09   74000000.0  15.631499  [Kyle Balda, Pierre Coffin]   \n",
       "40874  8.205804e+08  149000000.0   5.507251              [Patty Jenkins]   \n",
       "41691  1.262886e+09  160000000.0   7.893040                [Bill Condon]   \n",
       "42466  2.245113e+08   34000000.0   6.603274               [Edgar Wright]   \n",
       "35261  6.521054e+08  165000000.0   3.952154   [Chris Williams, Don Hall]   \n",
       "\n",
       "                                                 casting  \n",
       "36871  [Sandra Bullock, Jon Hamm, Michael Keaton, All...  \n",
       "40874  [Gal Gadot, Chris Pine, Robin Wright, Danny Hu...  \n",
       "41691  [Emma Watson, Dan Stevens, Luke Evans, Kevin K...  \n",
       "42466  [Ansel Elgort, Lily James, Kevin Spacey, Jamie...  \n",
       "35261  [Scott Adsit, Ryan Potter, Daniel Henney, T.J....  \n",
       "\n",
       "[5 rows x 22 columns]"
      ]
     },
     "execution_count": 318,
     "metadata": {},
     "output_type": "execute_result"
    }
   ],
   "source": [
    "movies_top_10_percent.head()"
   ]
  },
  {
   "cell_type": "code",
   "execution_count": 319,
   "metadata": {},
   "outputs": [],
   "source": [
    "# Establecer la columna 'id' como índice\n",
    "movies_top_10_percent.set_index('id', inplace=True)\n",
    "\n",
    "# Resetear el índice\n",
    "movies_top_10_percent.reset_index(inplace=True)"
   ]
  },
  {
   "cell_type": "code",
   "execution_count": 320,
   "metadata": {},
   "outputs": [
    {
     "data": {
      "text/html": [
       "<div>\n",
       "<style scoped>\n",
       "    .dataframe tbody tr th:only-of-type {\n",
       "        vertical-align: middle;\n",
       "    }\n",
       "\n",
       "    .dataframe tbody tr th {\n",
       "        vertical-align: top;\n",
       "    }\n",
       "\n",
       "    .dataframe thead th {\n",
       "        text-align: right;\n",
       "    }\n",
       "</style>\n",
       "<table border=\"1\" class=\"dataframe\">\n",
       "  <thead>\n",
       "    <tr style=\"text-align: right;\">\n",
       "      <th></th>\n",
       "      <th>id</th>\n",
       "      <th>title</th>\n",
       "      <th>tagline</th>\n",
       "      <th>overview</th>\n",
       "      <th>runtime</th>\n",
       "      <th>original_language</th>\n",
       "      <th>genres</th>\n",
       "      <th>belongs_to_collection</th>\n",
       "      <th>status</th>\n",
       "      <th>release_date</th>\n",
       "      <th>...</th>\n",
       "      <th>vote_count</th>\n",
       "      <th>vote_average</th>\n",
       "      <th>production_companies</th>\n",
       "      <th>production_countries</th>\n",
       "      <th>spoken_languages</th>\n",
       "      <th>revenue</th>\n",
       "      <th>budget</th>\n",
       "      <th>return</th>\n",
       "      <th>director</th>\n",
       "      <th>casting</th>\n",
       "    </tr>\n",
       "  </thead>\n",
       "  <tbody>\n",
       "    <tr>\n",
       "      <th>0</th>\n",
       "      <td>211672</td>\n",
       "      <td>Minions</td>\n",
       "      <td>Before Gru, they had a history of bad bosses</td>\n",
       "      <td>Minions Stuart, Kevin and Bob are recruited by...</td>\n",
       "      <td>91.0</td>\n",
       "      <td>en</td>\n",
       "      <td>Family, Animation, Adventure, Comedy</td>\n",
       "      <td>1</td>\n",
       "      <td>Released</td>\n",
       "      <td>2015-06-17</td>\n",
       "      <td>...</td>\n",
       "      <td>4729.0</td>\n",
       "      <td>6.4</td>\n",
       "      <td>Universal Pictures, Illumination Entertainment</td>\n",
       "      <td>United States of America</td>\n",
       "      <td>English</td>\n",
       "      <td>1.156731e+09</td>\n",
       "      <td>74000000.0</td>\n",
       "      <td>15.631499</td>\n",
       "      <td>[Kyle Balda, Pierre Coffin]</td>\n",
       "      <td>[Sandra Bullock, Jon Hamm, Michael Keaton, All...</td>\n",
       "    </tr>\n",
       "    <tr>\n",
       "      <th>1</th>\n",
       "      <td>297762</td>\n",
       "      <td>Wonder Woman</td>\n",
       "      <td>Power. Grace. Wisdom. Wonder.</td>\n",
       "      <td>An Amazon princess comes to the world of Man t...</td>\n",
       "      <td>141.0</td>\n",
       "      <td>en</td>\n",
       "      <td>Action, Adventure, Fantasy</td>\n",
       "      <td>1</td>\n",
       "      <td>Released</td>\n",
       "      <td>2017-05-30</td>\n",
       "      <td>...</td>\n",
       "      <td>5025.0</td>\n",
       "      <td>7.2</td>\n",
       "      <td>Dune Entertainment, Atlas Entertainment, Warne...</td>\n",
       "      <td>United States of America</td>\n",
       "      <td>Deutsch, English</td>\n",
       "      <td>8.205804e+08</td>\n",
       "      <td>149000000.0</td>\n",
       "      <td>5.507251</td>\n",
       "      <td>[Patty Jenkins]</td>\n",
       "      <td>[Gal Gadot, Chris Pine, Robin Wright, Danny Hu...</td>\n",
       "    </tr>\n",
       "    <tr>\n",
       "      <th>2</th>\n",
       "      <td>321612</td>\n",
       "      <td>Beauty and the Beast</td>\n",
       "      <td>Be our guest.</td>\n",
       "      <td>A live-action adaptation of Disney's version o...</td>\n",
       "      <td>129.0</td>\n",
       "      <td>en</td>\n",
       "      <td>Family, Fantasy, Romance</td>\n",
       "      <td>0</td>\n",
       "      <td>Released</td>\n",
       "      <td>2017-03-16</td>\n",
       "      <td>...</td>\n",
       "      <td>5530.0</td>\n",
       "      <td>6.8</td>\n",
       "      <td>Walt Disney Pictures, Mandeville Films</td>\n",
       "      <td>United Kingdom, United States of America</td>\n",
       "      <td>English</td>\n",
       "      <td>1.262886e+09</td>\n",
       "      <td>160000000.0</td>\n",
       "      <td>7.893040</td>\n",
       "      <td>[Bill Condon]</td>\n",
       "      <td>[Emma Watson, Dan Stevens, Luke Evans, Kevin K...</td>\n",
       "    </tr>\n",
       "  </tbody>\n",
       "</table>\n",
       "<p>3 rows × 22 columns</p>\n",
       "</div>"
      ],
      "text/plain": [
       "       id                 title                                       tagline  \\\n",
       "0  211672               Minions  Before Gru, they had a history of bad bosses   \n",
       "1  297762          Wonder Woman                 Power. Grace. Wisdom. Wonder.   \n",
       "2  321612  Beauty and the Beast                                 Be our guest.   \n",
       "\n",
       "                                            overview  runtime  \\\n",
       "0  Minions Stuart, Kevin and Bob are recruited by...     91.0   \n",
       "1  An Amazon princess comes to the world of Man t...    141.0   \n",
       "2  A live-action adaptation of Disney's version o...    129.0   \n",
       "\n",
       "  original_language                                genres  \\\n",
       "0                en  Family, Animation, Adventure, Comedy   \n",
       "1                en            Action, Adventure, Fantasy   \n",
       "2                en              Family, Fantasy, Romance   \n",
       "\n",
       "   belongs_to_collection    status release_date  ...  vote_count  \\\n",
       "0                      1  Released   2015-06-17  ...      4729.0   \n",
       "1                      1  Released   2017-05-30  ...      5025.0   \n",
       "2                      0  Released   2017-03-16  ...      5530.0   \n",
       "\n",
       "   vote_average                               production_companies  \\\n",
       "0           6.4     Universal Pictures, Illumination Entertainment   \n",
       "1           7.2  Dune Entertainment, Atlas Entertainment, Warne...   \n",
       "2           6.8             Walt Disney Pictures, Mandeville Films   \n",
       "\n",
       "                       production_countries  spoken_languages       revenue  \\\n",
       "0                  United States of America           English  1.156731e+09   \n",
       "1                  United States of America  Deutsch, English  8.205804e+08   \n",
       "2  United Kingdom, United States of America           English  1.262886e+09   \n",
       "\n",
       "        budget     return                     director  \\\n",
       "0   74000000.0  15.631499  [Kyle Balda, Pierre Coffin]   \n",
       "1  149000000.0   5.507251              [Patty Jenkins]   \n",
       "2  160000000.0   7.893040                [Bill Condon]   \n",
       "\n",
       "                                             casting  \n",
       "0  [Sandra Bullock, Jon Hamm, Michael Keaton, All...  \n",
       "1  [Gal Gadot, Chris Pine, Robin Wright, Danny Hu...  \n",
       "2  [Emma Watson, Dan Stevens, Luke Evans, Kevin K...  \n",
       "\n",
       "[3 rows x 22 columns]"
      ]
     },
     "execution_count": 320,
     "metadata": {},
     "output_type": "execute_result"
    }
   ],
   "source": [
    "movies_top_10_percent.head(3)"
   ]
  },
  {
   "cell_type": "code",
   "execution_count": 321,
   "metadata": {},
   "outputs": [],
   "source": [
    "# Si deseas guardar el DataFrame reducido en un nuevo archivo CSV\n",
    "movies_top_10_percent.to_csv('movies_top_10_percent.csv', index=False)"
   ]
  },
  {
   "cell_type": "code",
   "execution_count": 322,
   "metadata": {},
   "outputs": [
    {
     "name": "stdout",
     "output_type": "stream",
     "text": [
      "<class 'pandas.core.frame.DataFrame'>\n",
      "RangeIndex: 4538 entries, 0 to 4537\n",
      "Data columns (total 22 columns):\n",
      " #   Column                 Non-Null Count  Dtype         \n",
      "---  ------                 --------------  -----         \n",
      " 0   id                     4538 non-null   Int64         \n",
      " 1   title                  4538 non-null   object        \n",
      " 2   tagline                4538 non-null   object        \n",
      " 3   overview               4538 non-null   object        \n",
      " 4   runtime                4538 non-null   float64       \n",
      " 5   original_language      4538 non-null   object        \n",
      " 6   genres                 4538 non-null   object        \n",
      " 7   belongs_to_collection  4538 non-null   int64         \n",
      " 8   status                 4538 non-null   object        \n",
      " 9   release_date           4538 non-null   datetime64[ns]\n",
      " 10  release_year           4538 non-null   int32         \n",
      " 11  popularity             4538 non-null   float64       \n",
      " 12  vote_count             4538 non-null   float64       \n",
      " 13  vote_average           4538 non-null   float64       \n",
      " 14  production_companies   4538 non-null   object        \n",
      " 15  production_countries   4538 non-null   object        \n",
      " 16  spoken_languages       4538 non-null   object        \n",
      " 17  revenue                4538 non-null   float64       \n",
      " 18  budget                 4538 non-null   float64       \n",
      " 19  return                 4538 non-null   float64       \n",
      " 20  director               4538 non-null   object        \n",
      " 21  casting                4535 non-null   object        \n",
      "dtypes: Int64(1), datetime64[ns](1), float64(7), int32(1), int64(1), object(11)\n",
      "memory usage: 766.8+ KB\n"
     ]
    }
   ],
   "source": [
    "movies_top_10_percent.info()"
   ]
  }
 ],
 "metadata": {
  "kernelspec": {
   "display_name": "Python 3",
   "language": "python",
   "name": "python3"
  },
  "language_info": {
   "codemirror_mode": {
    "name": "ipython",
    "version": 3
   },
   "file_extension": ".py",
   "mimetype": "text/x-python",
   "name": "python",
   "nbconvert_exporter": "python",
   "pygments_lexer": "ipython3",
   "version": "3.11.7"
  }
 },
 "nbformat": 4,
 "nbformat_minor": 2
}
